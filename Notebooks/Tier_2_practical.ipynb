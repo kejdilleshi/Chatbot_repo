{
 "cells": [
  {
   "cell_type": "markdown",
   "id": "925cdbd2",
   "metadata": {},
   "source": [
    "# Practical Session: From Pre-trained transformers to Chatbots"
   ]
  },
  {
   "cell_type": "markdown",
   "id": "06846d44",
   "metadata": {},
   "source": [
    "![Chatbot Illustration !](LLM_Session2/Images/chatbot.jpg \"Designed by www.freepik.com\")"
   ]
  },
  {
   "cell_type": "markdown",
   "id": "bc1da823",
   "metadata": {},
   "source": [
    "\n",
    "### Objective\n",
    "\n",
    "Welcome to our hands-on session, **\"From Pre-trained to Chatbot\"**! In this practical session, we'll transform a pre-trained GPT-2 model into a functional chatbot using the `multi_woz_v22` dataset. By the end of this workshop, you will have gained hands-on experience in:\n",
    "\n",
    "- Understanding the mechanics behind a transformer-based chatbot.\n",
    "- Preprocessing and formatting dialogue data for training.\n",
    "- Fine-tuning GPT-2 to generate meaningful, task-oriented dialogue.\n",
    "\n",
    "Ready? Let's dive in!\n",
    "\n",
    "---"
   ]
  },
  {
   "cell_type": "markdown",
   "id": "2023c7f1",
   "metadata": {},
   "source": [
    "#### Necessary steps, run the hidden cells"
   ]
  },
  {
   "cell_type": "code",
   "execution_count": 13,
   "id": "fbdbbf10",
   "metadata": {},
   "outputs": [],
   "source": [
    "# Load the necessary libraries\n",
    "from transformers import Trainer, TrainingArguments, GPT2Tokenizer, GPT2LMHeadModel,AutoTokenizer\n",
    "from transformers import logging as transformers_logging\n",
    "from datasets import load_dataset  \n",
    "from torchinfo import summary\n",
    "from collections import Counter\n",
    "import matplotlib.pyplot as plt\n",
    "import numpy as np\n",
    "import transformers\n",
    "import torch\n",
    "import json\n",
    "import random\n",
    "import warnings\n",
    "import logging\n",
    "import sys, os\n",
    "import wget\n",
    "import matplotlib.image as mpimg\n",
    "from packaging import version\n"
   ]
  },
  {
   "cell_type": "markdown",
   "id": "5f009808",
   "metadata": {},
   "source": [
    "##### Where are you working?\n",
    "\n",
    "If you are working on Jupyter lab, our recomandation, choose `jupyter`"
   ]
  },
  {
   "cell_type": "code",
   "execution_count": 2,
   "id": "a3c9c326",
   "metadata": {},
   "outputs": [],
   "source": [
    "# Confirm you have the right versions\n",
    "platform = \"laptop\"  # possible choices are \"jupyter\", \"laptop\" and \"curnagl\"\n",
    "\n",
    "# Define paths based on the platform\n",
    "if platform in [\"jupyter\", \"laptop\", \"curnagl\"]:\n",
    "    PATH_MODELS = \"./LLM_Session2/Models\"\n",
    "    PATH_RESULTS = \"./LLM_Session2/Results/\"\n",
    "else:\n",
    "    raise ValueError(\"Invalid platform. Please choose from 'jupyter', 'laptop', or 'curnagl'.\")\n",
    "# Ensure directories exist\n",
    "os.makedirs(PATH_MODELS, exist_ok=True)\n",
    "os.makedirs(PATH_RESULTS, exist_ok=True)\n"
   ]
  },
  {
   "cell_type": "code",
   "execution_count": 3,
   "id": "e082ac49",
   "metadata": {},
   "outputs": [
    {
     "name": "stdout",
     "output_type": "stream",
     "text": [
      "Version Check:\n",
      "python: 3.10.15 (✔)\n",
      "torch: 2.3.0+cu121 (✔)\n",
      "transformers: 4.41.2 (✔)\n",
      "numpy: 1.26.4 (✔)\n"
     ]
    }
   ],
   "source": [
    "# Confirm you have the right versions \n",
    "# Minimum required versions\n",
    "required_versions = {\n",
    "    \"python\": \"3.10.15\",\n",
    "    \"torch\": \"2.3.0\",\n",
    "    \"transformers\": \"4.41.2\",\n",
    "    \"numpy\": \"1.26.4\"\n",
    "}\n",
    "\n",
    "# Fetch current versions\n",
    "current_versions = {\n",
    "    \"python\": sys.version.split()[0],\n",
    "    \"torch\": torch.__version__,\n",
    "    \"transformers\": transformers.__version__,\n",
    "    \"numpy\": np.__version__\n",
    "}\n",
    "\n",
    "print(\"Version Check:\")\n",
    "for package, required_version in required_versions.items():\n",
    "    current_version = current_versions[package]\n",
    "    \n",
    "    # Compare versions\n",
    "    if version.parse(current_version) >= version.parse(required_version):\n",
    "        print(f\"{package}: {current_version} (✔)\")\n",
    "    else:\n",
    "        print(f\"{package}: {current_version} (✘) - Requires: {required_version} or later\")\n"
   ]
  },
  {
   "cell_type": "code",
   "execution_count": 4,
   "id": "bb15f742",
   "metadata": {},
   "outputs": [
    {
     "name": "stdout",
     "output_type": "stream",
     "text": [
      "Using device: cuda\n"
     ]
    }
   ],
   "source": [
    "# Try to use GPUs if available:\n",
    "def get_device():\n",
    "    if torch.cuda.is_available():\n",
    "        return torch.device(\"cuda\")\n",
    "    elif hasattr(torch.backends, 'mps') and torch.backends.mps.is_available():\n",
    "        return torch.device(\"mps\")\n",
    "    else:\n",
    "        return torch.device(\"cpu\")\n",
    "\n",
    "device = get_device()\n",
    "print(f\"Using device: {device}\")\n",
    "\n",
    "# Suppress some specific logging and warnings from transformers and Hugging Face Hub modules:\n",
    "warnings.filterwarnings(\"ignore\", category=FutureWarning, module=\"huggingface_hub.file_download\")\n",
    "logging.getLogger(\"transformers.modeling_utils\").setLevel(logging.ERROR)\n",
    "transformers_logging.set_verbosity_error()"
   ]
  },
  {
   "cell_type": "code",
   "execution_count": 5,
   "id": "35fdd489",
   "metadata": {},
   "outputs": [],
   "source": [
    "# Set a seed, to make the whole pipeline reproducible:\n",
    "seed = 0\n",
    "random.seed(seed)\n",
    "np.random.seed(seed)\n",
    "torch.manual_seed(seed)\n",
    "transformers.set_seed(seed)"
   ]
  },
  {
   "cell_type": "markdown",
   "id": "ad66cb3d",
   "metadata": {},
   "source": [
    "## 1. Our Datasets\n",
    "\n",
    "The `multi_woz_v22` dataset is a comprehensive, multi-domain dialogue dataset, ideal for training task-oriented chatbots. It contains over 10,000 dialogues spanning various domains, such as **restaurant booking, hotel reservations, taxi services, and more**.\n",
    "\n",
    "### Dataset Structure\n",
    "\n",
    "Each dialogue in [`multi_woz_v22`](https://huggingface.co/datasets/pfb30/multi_woz_v22) contains:\n",
    "- **User Utterances**: Statements or questions from the user, e.g., \"Can you book a hotel for me?\"\n",
    "- **System Responses**: Replies from the system, e.g., \"Sure, which city are you looking for?\"\n",
    "- **Metadata**: Information about the dialogue's domain, state, and other contextual details.\n",
    "\n",
    "In addition to `multi_woz_v22`, we have created our own, complementary dataset with conversations featuring a distinct distribution. This smaller dataset complements `multi_woz_v22` and focuses on topics such as jokes, general introductions, and descriptions of some British landmarks. This dataset can be tailored to meet specific requirements.\n",
    "\n",
    "### Sample Dialogue\n",
    "\n",
    "Below is a code snippet to visualize a sample dialogue from the dataset:\n",
    "\n",
    "```python\n",
    "from datasets import load_dataset\n",
    "\n",
    "# Load the multi_woz_v22 dataset\n",
    "dataset = load_dataset(\"multi_woz_v22\")\n",
    "print(dataset['train'][0])  # Display the first example in the training set\n"
   ]
  },
  {
   "cell_type": "markdown",
   "id": "9cb21349-0166-4bc2-a178-574ecc091b95",
   "metadata": {},
   "source": [
    "We are going to use the Multi-Domain Wizard-of-Oz dataset (MultiWOZ). This is a fully-labeled collection of human-human written conversations spanning over multiple domains and topics. See https://huggingface.co/datasets/pfb30/multi_woz_v22 and https://arxiv.org/abs/1810.00278.\n",
    "\n",
    "Load the \"MultiWOZ\" dataset:"
   ]
  },
  {
   "cell_type": "code",
   "execution_count": 6,
   "id": "22eaa668",
   "metadata": {},
   "outputs": [
    {
     "name": "stdout",
     "output_type": "stream",
     "text": [
      "LLM_Session2/complementary_data.json not found. Downloading...\n",
      "\n",
      "Downloaded LLM_Session2/complementary_data.json successfully.\n",
      "Data loaded successfully from LLM_Session2/complementary_data.json.\n"
     ]
    }
   ],
   "source": [
    "# URL of the file to download\n",
    "url = \"https://drive.google.com/uc?id=1bJxwIM2nMuvkOyQBpjF65y0eEvMy5Qkg\"\n",
    "\n",
    "# Directory where the file will be stored\n",
    "directory = \"LLM_Session2\"\n",
    "\n",
    "\n",
    "# Path to the output file\n",
    "output_filepath = os.path.join(directory, \"complementary_data.json\")\n",
    "\n",
    "# Check if the file already exists\n",
    "if not os.path.exists(output_filepath):\n",
    "    print(f\"{output_filepath} not found. Downloading...\")\n",
    "    # Download the file\n",
    "    try:\n",
    "        wget.download(url, output_filepath)\n",
    "        print(f\"\\nDownloaded {output_filepath} successfully.\")\n",
    "    except Exception as e:\n",
    "        print(f\"An error occurred while downloading the file: {e}\")\n",
    "        raise\n",
    "else:\n",
    "    print(f\"{output_filepath} already exists. Skipping download.\")\n",
    "\n",
    "# Load the data\n",
    "try:\n",
    "    with open(output_filepath, 'r') as file:\n",
    "        complementary_data = json.load(file)\n",
    "    print(f\"Data loaded successfully from {output_filepath}.\")\n",
    "except Exception as e:\n",
    "    print(f\"An error occurred while loading the file: {e}\")\n",
    "    raise"
   ]
  },
  {
   "cell_type": "code",
   "execution_count": 7,
   "id": "0ff969be",
   "metadata": {},
   "outputs": [
    {
     "data": {
      "text/plain": [
       "{'id': 0,\n",
       " 'speaker': [0, 1],\n",
       " 'utterance': ['Hello! What kind of help can you offer here?',\n",
       "  'Hi there! I provide information about London, including directions, attractions, transportation, and local tips. How can I assist you?']}"
      ]
     },
     "execution_count": 7,
     "metadata": {},
     "output_type": "execute_result"
    }
   ],
   "source": [
    "complementary_data[0]"
   ]
  },
  {
   "cell_type": "code",
   "execution_count": 8,
   "id": "12ee88a9-39ee-43b9-8123-cc82fbc15cb9",
   "metadata": {},
   "outputs": [
    {
     "name": "stdout",
     "output_type": "stream",
     "text": [
      "DatasetDict({\n",
      "    train: Dataset({\n",
      "        features: ['dialogue_id', 'services', 'turns'],\n",
      "        num_rows: 8437\n",
      "    })\n",
      "    validation: Dataset({\n",
      "        features: ['dialogue_id', 'services', 'turns'],\n",
      "        num_rows: 1000\n",
      "    })\n",
      "    test: Dataset({\n",
      "        features: ['dialogue_id', 'services', 'turns'],\n",
      "        num_rows: 1000\n",
      "    })\n",
      "})\n"
     ]
    }
   ],
   "source": [
    "# Load dataset from Hugging Face\n",
    "dataset = load_dataset('multi_woz_v22', trust_remote_code=True)\n",
    "print(dataset)"
   ]
  },
  {
   "cell_type": "code",
   "execution_count": 9,
   "id": "84cfc5d6-1cfa-4a31-9014-20626769b6ce",
   "metadata": {},
   "outputs": [
    {
     "name": "stdout",
     "output_type": "stream",
     "text": [
      "{'dialogue_id': 'PMUL4398.json', 'services': ['restaurant', 'hotel'], 'turns': {'turn_id': ['0', '1', '2', '3', '4', '5', '6', '7', '8', '9', '10', '11'], 'speaker': [0, 1, 0, 1, 0, 1, 0, 1, 0, 1, 0, 1], 'utterance': ['i need a place to dine in the center thats expensive', 'I have several options for you; do you prefer African, Asian, or British food?', 'Any sort of food would be fine, as long as it is a bit expensive. Could I get the phone number for your recommendation?', 'There is an Afrian place named Bedouin in the centre. How does that sound?', 'Sounds good, could I get that phone number? Also, could you recommend me an expensive hotel?', \"Bedouin's phone is 01223367660. As far as hotels go, I recommend the University Arms Hotel in the center of town.\", 'Yes. Can you book it for me?', 'Sure, when would you like that reservation?', 'i want to book it for 2 people and 2 nights starting from saturday.', 'Your booking was successful. Your reference number is FRGZWQL2 . May I help you further?', 'That is all I need to know. Thanks, good bye.', 'Thank you so much for Cambridge TownInfo centre. Have a great day!'], 'frames': [{'service': ['restaurant', 'hotel'], 'state': [{'active_intent': 'find_restaurant', 'requested_slots': [], 'slots_values': {'slots_values_name': ['restaurant-area', 'restaurant-pricerange'], 'slots_values_list': [['centre'], ['expensive']]}}, {'active_intent': 'find_hotel', 'requested_slots': [], 'slots_values': {'slots_values_name': [], 'slots_values_list': []}}], 'slots': [{'slot': [], 'value': [], 'start': [], 'exclusive_end': [], 'copy_from': [], 'copy_from_value': []}, {'slot': [], 'value': [], 'start': [], 'exclusive_end': [], 'copy_from': [], 'copy_from_value': []}]}, {'service': [], 'state': [], 'slots': []}, {'service': ['restaurant', 'hotel'], 'state': [{'active_intent': 'find_restaurant', 'requested_slots': ['restaurant-food'], 'slots_values': {'slots_values_name': ['restaurant-area', 'restaurant-pricerange'], 'slots_values_list': [['centre'], ['expensive']]}}, {'active_intent': 'find_hotel', 'requested_slots': [], 'slots_values': {'slots_values_name': [], 'slots_values_list': []}}], 'slots': [{'slot': [], 'value': [], 'start': [], 'exclusive_end': [], 'copy_from': [], 'copy_from_value': []}, {'slot': [], 'value': [], 'start': [], 'exclusive_end': [], 'copy_from': [], 'copy_from_value': []}]}, {'service': [], 'state': [], 'slots': []}, {'service': ['restaurant', 'hotel'], 'state': [{'active_intent': 'find_restaurant', 'requested_slots': ['restaurant-phone'], 'slots_values': {'slots_values_name': ['restaurant-area', 'restaurant-name', 'restaurant-pricerange'], 'slots_values_list': [['centre'], ['bedouin'], ['expensive']]}}, {'active_intent': 'find_hotel', 'requested_slots': [], 'slots_values': {'slots_values_name': ['hotel-pricerange', 'hotel-type'], 'slots_values_list': [['expensive'], ['hotel']]}}], 'slots': [{'slot': [], 'value': [], 'start': [], 'exclusive_end': [], 'copy_from': [], 'copy_from_value': []}, {'slot': [], 'value': [], 'start': [], 'exclusive_end': [], 'copy_from': [], 'copy_from_value': []}]}, {'service': [], 'state': [], 'slots': []}, {'service': ['hotel'], 'state': [{'active_intent': 'find_hotel', 'requested_slots': [], 'slots_values': {'slots_values_name': ['hotel-name', 'hotel-pricerange', 'hotel-type'], 'slots_values_list': [['university arms hotel'], ['expensive'], ['hotel']]}}], 'slots': [{'slot': [], 'value': [], 'start': [], 'exclusive_end': [], 'copy_from': [], 'copy_from_value': []}]}, {'service': [], 'state': [], 'slots': []}, {'service': ['hotel'], 'state': [{'active_intent': 'book_hotel', 'requested_slots': [], 'slots_values': {'slots_values_name': ['hotel-bookday', 'hotel-bookpeople', 'hotel-bookstay', 'hotel-name', 'hotel-pricerange', 'hotel-type'], 'slots_values_list': [['saturday'], ['2'], ['2'], ['university arms hotel'], ['expensive'], ['hotel']]}}], 'slots': [{'slot': [], 'value': [], 'start': [], 'exclusive_end': [], 'copy_from': [], 'copy_from_value': []}]}, {'service': [], 'state': [], 'slots': []}, {'service': [], 'state': [], 'slots': []}, {'service': [], 'state': [], 'slots': []}], 'dialogue_acts': [{'dialog_act': {'act_type': ['Restaurant-Inform'], 'act_slots': [{'slot_name': ['area', 'pricerange'], 'slot_value': ['centre', 'expensive']}]}, 'span_info': {'act_type': ['Restaurant-Inform', 'Restaurant-Inform'], 'act_slot_name': ['area', 'pricerange'], 'act_slot_value': ['centre', 'expensive'], 'span_start': [30, 43], 'span_end': [36, 52]}}, {'dialog_act': {'act_type': ['Restaurant-Inform', 'Restaurant-Select'], 'act_slots': [{'slot_name': ['choice'], 'slot_value': ['several']}, {'slot_name': ['food', 'food', 'food'], 'slot_value': ['African', 'Asian', 'British']}]}, 'span_info': {'act_type': ['Restaurant-Inform', 'Restaurant-Select', 'Restaurant-Select', 'Restaurant-Select'], 'act_slot_name': ['choice', 'food', 'food', 'food'], 'act_slot_value': ['several', 'African', 'Asian', 'British'], 'span_start': [7, 46, 55, 65], 'span_end': [14, 53, 60, 72]}}, {'dialog_act': {'act_type': ['Restaurant-Request'], 'act_slots': [{'slot_name': ['food'], 'slot_value': ['?']}]}, 'span_info': {'act_type': [], 'act_slot_name': [], 'act_slot_value': [], 'span_start': [], 'span_end': []}}, {'dialog_act': {'act_type': ['Restaurant-Inform'], 'act_slots': [{'slot_name': ['area', 'food', 'name'], 'slot_value': ['centre', 'Afrian', 'Bedouin']}]}, 'span_info': {'act_type': ['Restaurant-Inform', 'Restaurant-Inform', 'Restaurant-Inform'], 'act_slot_name': ['food', 'name', 'area'], 'act_slot_value': ['Afrian', 'Bedouin', 'centre'], 'span_start': [12, 31, 46], 'span_end': [18, 38, 52]}}, {'dialog_act': {'act_type': ['Hotel-Inform', 'Restaurant-Request'], 'act_slots': [{'slot_name': ['pricerange', 'type'], 'slot_value': ['expensive', 'hotel']}, {'slot_name': ['phone'], 'slot_value': ['?']}]}, 'span_info': {'act_type': ['Hotel-Inform', 'Hotel-Inform'], 'act_slot_name': ['pricerange', 'type'], 'act_slot_value': ['expensive', 'hotel'], 'span_start': [76, 86], 'span_end': [85, 91]}}, {'dialog_act': {'act_type': ['Hotel-Recommend', 'Restaurant-Inform'], 'act_slots': [{'slot_name': ['area', 'name'], 'slot_value': ['center of town', 'the University Arms Hotel']}, {'slot_name': ['name', 'phone'], 'slot_value': ['Bedouin', '01223367660']}]}, 'span_info': {'act_type': ['Restaurant-Inform', 'Restaurant-Inform', 'Hotel-Recommend', 'Hotel-Recommend'], 'act_slot_name': ['name', 'phone', 'name', 'area'], 'act_slot_value': ['Bedouin', '01223367660', 'the University Arms Hotel', 'center of town'], 'span_start': [0, 19, 65, 98], 'span_end': [7, 30, 90, 112]}}, {'dialog_act': {'act_type': ['Hotel-Inform'], 'act_slots': [{'slot_name': ['none'], 'slot_value': ['none']}]}, 'span_info': {'act_type': [], 'act_slot_name': [], 'act_slot_value': [], 'span_start': [], 'span_end': []}}, {'dialog_act': {'act_type': ['Booking-Request'], 'act_slots': [{'slot_name': ['bookday'], 'slot_value': ['?']}]}, 'span_info': {'act_type': [], 'act_slot_name': [], 'act_slot_value': [], 'span_start': [], 'span_end': []}}, {'dialog_act': {'act_type': ['Hotel-Inform'], 'act_slots': [{'slot_name': ['bookday', 'bookpeople', 'bookstay'], 'slot_value': ['saturday', '2', '2']}]}, 'span_info': {'act_type': ['Hotel-Inform', 'Hotel-Inform', 'Hotel-Inform'], 'act_slot_name': ['bookstay', 'bookpeople', 'bookday'], 'act_slot_value': ['2', '2', 'saturday'], 'span_start': [22, 35, 58], 'span_end': [23, 36, 66]}}, {'dialog_act': {'act_type': ['Booking-Book', 'general-reqmore'], 'act_slots': [{'slot_name': ['ref'], 'slot_value': ['FRGZWQL2']}, {'slot_name': ['none'], 'slot_value': ['none']}]}, 'span_info': {'act_type': ['Booking-Book'], 'act_slot_name': ['ref'], 'act_slot_value': ['FRGZWQL2'], 'span_start': [54], 'span_end': [62]}}, {'dialog_act': {'act_type': ['general-bye'], 'act_slots': [{'slot_name': ['none'], 'slot_value': ['none']}]}, 'span_info': {'act_type': [], 'act_slot_name': [], 'act_slot_value': [], 'span_start': [], 'span_end': []}}, {'dialog_act': {'act_type': ['general-bye', 'general-welcome'], 'act_slots': [{'slot_name': ['none'], 'slot_value': ['none']}, {'slot_name': ['none'], 'slot_value': ['none']}]}, 'span_info': {'act_type': [], 'act_slot_name': [], 'act_slot_value': [], 'span_start': [], 'span_end': []}}]}}\n"
     ]
    }
   ],
   "source": [
    "# Look at an example:\n",
    "example = dataset['train'][0]\n",
    "print(example)"
   ]
  },
  {
   "cell_type": "markdown",
   "id": "1489c09e-2993-4853-aa18-e493af208a60",
   "metadata": {},
   "source": [
    "### 1.2 Special Tokens and Why They Matter\n",
    "\n",
    "When working with conversational data, it’s crucial to use special tokens to help the model understand the structure of the dialogue. These tokens act as **guidelines** for the model to differentiate between user and system turns and know when the conversation ends.\n",
    "\n",
    "#### Our Special Tokens\n",
    "\n",
    "We'll be using the following special tokens:\n",
    "\n",
    "- **`<|user|>`**: Indicates the beginning of a user utterance.\n",
    "- **`<|system|>`**: Indicates the beginning of a system (chatbot) response.\n",
    "- **`<|endofturn|>`**: Marks the end of each dialogue turn.\n",
    "- **`<|pad|>`**: Used to pad sequences to the same length for batch processing.\n",
    "\n",
    "#### Why Are Special Tokens Important?\n",
    "\n",
    "1. **Clarifying Speaker Roles**: In a conversation, distinguishing who is speaking (user or system) is essential for the model to learn appropriate response patterns.\n",
    "2. **Defining Turn Boundaries**: By marking the end of a dialogue turn, we ensure the model can process and structure conversations more effectively.\n",
    "3. **Efficient Padding**: The `<|pad|>` token ensures that input sequences are uniformly sized, making batch processing efficient and reducing computational load.\n"
   ]
  },
  {
   "cell_type": "code",
   "execution_count": 10,
   "id": "077d1b60-2427-45b5-87c5-fba8c73d23aa",
   "metadata": {},
   "outputs": [],
   "source": [
    "# Define special tokens \n",
    "\n",
    "user=\"<|user|>\"\n",
    "system= \"<|system|>\"\n",
    "pad=\"<|pad|>\"\n",
    "eot=\"<|endofturn|>\""
   ]
  },
  {
   "cell_type": "code",
   "execution_count": 11,
   "id": "c9e857cf",
   "metadata": {},
   "outputs": [
    {
     "name": "stdout",
     "output_type": "stream",
     "text": [
      " <|user|> i need a place to dine in the center thats expensive \n",
      " <|system|> I have several options for you; do you prefer African, Asian, or British food?\n",
      " <|user|> Any sort of food would be fine, as long as it is a bit expensive. Could I get the phone number for your recommendation? \n",
      " <|system|> There is an Afrian place named Bedouin in the centre. How does that sound?\n",
      " <|user|> Sounds good, could I get that phone number? Also, could you recommend me an expensive hotel? \n",
      " <|system|> Bedouin's phone is 01223367660. As far as hotels go, I recommend the University Arms Hotel in the center of town.\n",
      " <|user|> Yes. Can you book it for me? \n",
      " <|system|> Sure, when would you like that reservation?\n",
      " <|user|> i want to book it for 2 people and 2 nights starting from saturday. \n",
      " <|system|> Your booking was successful. Your reference number is FRGZWQL2 . May I help you further?\n",
      " <|user|> That is all I need to know. Thanks, good bye. \n",
      " <|system|> Thank you so much for Cambridge TownInfo centre. Have a great day!\n"
     ]
    }
   ],
   "source": [
    "# Visualize a conversation in the dataset.\n",
    "\n",
    "dialogue = example[\"turns\"]\n",
    "\n",
    "for turn_id, speaker, utterance in zip(dialogue[\"turn_id\"], dialogue[\"speaker\"], dialogue[\"utterance\"]):\n",
    "    if speaker == 0:  # User input\n",
    "        print(f\" {user} {utterance.strip()} \")\n",
    "    elif speaker == 1:  # System response\n",
    "        print(f\" {system} {utterance.strip()}\")"
   ]
  },
  {
   "cell_type": "code",
   "execution_count": 12,
   "id": "f2e95180",
   "metadata": {},
   "outputs": [
    {
     "name": "stdout",
     "output_type": "stream",
     "text": [
      " <|user|> Can you help me find the nearest Tube station? \n",
      " <|system|> Of course! The closest Tube station is just two blocks away on your left. Would you like a map?\n",
      "--------------------------------------------------\n",
      " <|user|> How do I get to Buckingham Palace from here? \n",
      " <|system|> Head south for about 15 minutes, or you can take the Victoria Line to Green Park Station and walk from there.\n",
      "--------------------------------------------------\n",
      " <|user|> Which bus should I take to get to the British Museum? \n",
      " <|system|> The number 14 bus will take you directly there. You can catch it from the stop just around the corner.\n",
      "--------------------------------------------------\n",
      " <|user|> How do I get to Tower Bridge? \n",
      " <|system|> Take the District Line to Tower Hill Station, then it’s just a short walk from there.\n",
      "--------------------------------------------------\n",
      " <|user|> Where can I catch the Thames Clippers? \n",
      " <|system|> You can catch the Thames Clippers from the Embankment Pier, just a 10-minute walk from here.\n",
      "--------------------------------------------------\n",
      " <|user|> What’s the best way to get to Camden Market? \n",
      " <|system|> The Northern Line will take you straight to Camden Town Station, and the market is just a short walk from there.\n",
      "--------------------------------------------------\n",
      " <|user|> How far is it to the London Eye from here? \n",
      " <|system|> It’s about a 20-minute walk along the Thames. You could also take the Jubilee Line to Waterloo Station.\n",
      "--------------------------------------------------\n",
      " <|user|> Can you help me find directions to St. Paul’s Cathedral? \n",
      " <|system|> Absolutely! Take the Central Line to St. Paul’s Station. It’s right next to the station.\n",
      "--------------------------------------------------\n",
      " <|user|> What’s the best way to get to Covent Garden? \n",
      " <|system|> The Piccadilly Line will take you directly to Covent Garden Station. It’s just a few minutes from here.\n",
      "--------------------------------------------------\n",
      " <|user|> Is there a Tube line that goes to the Natural History Museum? \n",
      " <|system|> Yes, the Piccadilly, District, and Circle Lines all stop at South Kensington Station, which is just a short walk away.\n",
      "--------------------------------------------------\n",
      " <|user|> What’s the weather like today in London? \n",
      " <|system|> It’s sunny with a slight breeze, around 18°C. A perfect day for exploring the city!\n",
      "--------------------------------------------------\n",
      " <|user|> Is it going to rain later today? \n",
      " <|system|> There’s a 60% chance of rain in the afternoon, so it’s best to bring an umbrella just in case.\n",
      "--------------------------------------------------\n",
      " <|user|> Is it cold outside today? \n",
      " <|system|> It’s quite chilly at 10°C, so I’d recommend wearing a coat and scarf.\n",
      "--------------------------------------------------\n",
      " <|user|> How warm is it right now? \n",
      " <|system|> It’s currently 22°C, so it’s quite pleasant for walking around.\n",
      "--------------------------------------------------\n",
      " <|user|> Are there any disruptions on the Tube right now? \n",
      " <|system|> There’s currently a delay on the Jubilee Line, but all other lines are running smoothly.\n",
      "--------------------------------------------------\n",
      " <|user|> When does the Tower of London close today? \n",
      " <|system|> The Tower of London closes at 5:30 PM today, with last entry at 5:00 PM.\n",
      "--------------------------------------------------\n",
      " <|user|> Are there any road closures nearby? \n",
      " <|system|> Yes, there are some closures near Westminster for a parade. I can suggest alternative routes if needed.\n",
      "--------------------------------------------------\n",
      " <|user|> What time does the British Museum open tomorrow? \n",
      " <|system|> The British Museum opens at 10:00 AM tomorrow.\n",
      "--------------------------------------------------\n",
      " <|user|> Is there a weather warning in London today? \n",
      " <|system|> No weather warnings for today, but it will be windy later in the afternoon.\n",
      "--------------------------------------------------\n",
      " <|user|> What’s the best time to visit Trafalgar Square to avoid crowds? \n",
      " <|system|> Early morning, around 8:00 AM, tends to be the least crowded time.\n",
      "--------------------------------------------------\n"
     ]
    }
   ],
   "source": [
    "# Visualize a conversation in the complementary-dataset.\n",
    "# This dataset is much smaller and only has one turn.\n",
    "\n",
    "dialogues = complementary_data[10:30]\n",
    "\n",
    "for dialogue in dialogues:\n",
    "    print(f\" {user} {dialogue['utterance'][0]} \")\n",
    "    print(f\" {system} {dialogue['utterance'][1]}\")\n",
    "    print(50*'-')"
   ]
  },
  {
   "cell_type": "markdown",
   "id": "b8e1bcc3-48b1-42f3-8a11-ee242b088479",
   "metadata": {},
   "source": [
    "##### Example Explanation\n",
    "\n",
    "Here the special tokens `'<|user|>'` and `'<|system|>'` help GPT-2 to differentiate between different speakers in a conversation, facilitating the model’s ability to learn how a dialogue typically unfolds. By labeling input text with `'<|user|>'` for the human’s part of the conversation and `'<|system|>'` for the chatbot’s response, you give the model a clear format. This will help it understand conversational roles and can also improve the training of dialogue models.\n",
    "\n",
    "GPT-2 will learn the conversational flow, that is the back-and-forth nature of conversation, and be able to generate coherent dialogue after training. In summary, GPT-2 will generate next words in such a way to mimic a conversation."
   ]
  },
  {
   "cell_type": "markdown",
   "id": "5382ffd4-09bb-48ec-8779-e4b0ab67d14f",
   "metadata": {},
   "source": [
    "Load the pre-trained GPT-2 tokenizer and add special tokens:"
   ]
  },
  {
   "cell_type": "code",
   "execution_count": 13,
   "id": "25b632d8-92ca-4383-a4e2-35f97a9216d4",
   "metadata": {},
   "outputs": [
    {
     "data": {
      "text/plain": [
       "4"
      ]
     },
     "execution_count": 13,
     "metadata": {},
     "output_type": "execute_result"
    }
   ],
   "source": [
    "tokenizer = GPT2Tokenizer.from_pretrained('gpt2')\n",
    "special_tokens_dict = {\n",
    "    \"additional_special_tokens\": [user,system,eot],\n",
    "    \"pad_token\": \"<|pad|>\",\n",
    "}\n",
    "tokenizer.add_special_tokens(special_tokens_dict)"
   ]
  },
  {
   "cell_type": "markdown",
   "id": "a9a8f4df-1b21-45af-bb8a-77c5d438cdf7",
   "metadata": {},
   "source": [
    "#### Analyse the dataset"
   ]
  },
  {
   "cell_type": "code",
   "execution_count": 14,
   "id": "8ae31ed3-79ad-4141-91f0-219e79bf850e",
   "metadata": {},
   "outputs": [],
   "source": [
    "examples = dataset['train']\n",
    "\n",
    "dialogues = []\n",
    "for dialogue in examples['turns']:\n",
    "    dialogue_text = \"\"\n",
    "    for turn_id, speaker, utterance in zip(dialogue[\"turn_id\"], dialogue[\"speaker\"], dialogue[\"utterance\"]):\n",
    "        if speaker == 0:  # User input\n",
    "            dialogue_text += f\"{user} {utterance.strip()} \"\n",
    "        elif speaker == 1:  # System response\n",
    "            dialogue_text += f\"{system} {utterance.strip()} \"\n",
    "    dialogues.append(dialogue_text)"
   ]
  },
  {
   "cell_type": "code",
   "execution_count": 15,
   "id": "16c78d47-523c-4c08-afe9-c93538568461",
   "metadata": {},
   "outputs": [
    {
     "name": "stdout",
     "output_type": "stream",
     "text": [
      "The number of dialogues in the dataset:  8437\n"
     ]
    }
   ],
   "source": [
    "print(\"The number of dialogues in the dataset: \", len(dialogues))"
   ]
  },
  {
   "cell_type": "markdown",
   "id": "c5e37095-2c1c-4613-be88-598d1b1e0724",
   "metadata": {},
   "source": [
    "Plot a histogram of the number of tokens in each dialogue:"
   ]
  },
  {
   "cell_type": "code",
   "execution_count": 16,
   "id": "34a5c5fd-5cf1-4e36-9983-b066f1e449ec",
   "metadata": {},
   "outputs": [
    {
     "data": {
      "image/png": "[encoded data removed]",
      "text/plain": [
       "<Figure size 1200x500 with 2 Axes>"
      ]
     },
     "metadata": {},
     "output_type": "display_data"
    }
   ],
   "source": [
    "def plot_token_histogram(dialogues, tokenizer, num_bins=10):\n",
    "\n",
    "    # Tokenizing the dialogues and counting tokens in each dialogue\n",
    "    num_tokens_per_dialogue = [len(tokenizer.tokenize(dialogue)) for dialogue in dialogues]\n",
    "\n",
    "    # Create histogram bins\n",
    "    token_min = min(num_tokens_per_dialogue)\n",
    "    token_max = max(num_tokens_per_dialogue)\n",
    "    bins = np.linspace(token_min, token_max, num_bins + 1)  # Create `num_bins` equally spaced bins\n",
    "\n",
    "    # Count occurrences of each token count\n",
    "    token_counts, _ = np.histogram(num_tokens_per_dialogue, bins=bins)\n",
    "\n",
    "    # Count occurrences of [USER] in each dialogue\n",
    "    num_user_tokens_per_dialogue = [dialogue.count(user) for dialogue in dialogues]\n",
    "    user_token_counts = Counter(num_user_tokens_per_dialogue)\n",
    "\n",
    "    # Create a figure with two subplots\n",
    "    fig, axs = plt.subplots(1, 2, figsize=(12, 5))\n",
    "\n",
    "    # Plot the histogram of token counts using bins\n",
    "    axs[0].bar(bins[:-1], token_counts, width=np.diff(bins), align='edge')  # Plot with bins\n",
    "    axs[0].set_xlabel('Number of Tokens')\n",
    "    axs[0].set_ylabel('Number of Dialogues')\n",
    "    axs[0].set_title('Histogram of Number of Tokens per Dialogue')\n",
    "\n",
    "    # Plot the histogram of [USER] token counts\n",
    "    axs[1].bar(user_token_counts.keys(), user_token_counts.values())\n",
    "    axs[1].set_xlabel('Number of [USER] Tokens')\n",
    "    axs[1].set_ylabel('Number of Dialogues')\n",
    "    axs[1].set_title(f'Histogram of Number of {user} Tokens per Dialogue')\n",
    "\n",
    "    # Adjust layout to prevent overlapping\n",
    "    plt.tight_layout()\n",
    "\n",
    "    # Show the plot\n",
    "    plt.show()\n",
    "\n",
    "plot_token_histogram(dialogues, tokenizer, num_bins=100)"
   ]
  },
  {
   "cell_type": "markdown",
   "id": "cb482dd1-d6a9-470e-992f-985d3fd43fff",
   "metadata": {},
   "source": [
    "Prepare the data in a dialogue format with maximum 256 tokens per conversation (this number may be increased to allow longer conversations) and maximum 8 user-bot exchanges per conversation. \n",
    "\n",
    "Terminology:\n",
    "- 1 turn = 2 messages or one user-bot exchange conversation.\n",
    "- multi-turn = 4-8 turns of user-bot exchange conversations."
   ]
  },
  {
   "cell_type": "code",
   "execution_count": 14,
   "id": "66301873-1915-4bb6-99bd-48f0d627c25c",
   "metadata": {},
   "outputs": [],
   "source": [
    "\n",
    "def extract_singleturn(dialogue):\n",
    "    dialogues=[]\n",
    "    for i in range(0, len(dialogue[\"utterance\"]) - 1, 2):  # Each user-bot exchange is 2 turns\n",
    "        if dialogue[\"speaker\"][i] == 0 and dialogue[\"speaker\"][i + 1] == 1:\n",
    "            user_utterance = dialogue[\"utterance\"][i].strip()\n",
    "            bot_response = dialogue[\"utterance\"][i + 1].strip()\n",
    "            single_turn = f\"{user} {user_utterance} {system} {bot_response} {eot}\"\n",
    "            dialogues.append(single_turn)\n",
    "    return dialogues\n",
    "\n",
    "\n",
    "def extract_multiturn(dialogue,n_turn=4):\n",
    "    context = \"\"  # Persistent context across turns\n",
    "    for id, speaker, utterance in zip(dialogue['turn_id'],dialogue[\"speaker\"], dialogue[\"utterance\"]):\n",
    "        if int(id) < n_turn :\n",
    "            if speaker == 0:  # User input\n",
    "                context += f\"{user} {utterance.strip()} \"\n",
    "            elif speaker == 1:  # System response\n",
    "                if context.strip():  # Ensure there's context to process\n",
    "                    context += f\"{system} {utterance.strip()} {eot}\"  # Append system response to context Add endo of text token\n",
    "                    \n",
    "    return context\n",
    "\n",
    "def extract_general(block,data):\n",
    "    dialogues=[]\n",
    "    dialogue=data[block]\n",
    "    if dialogue[\"speaker\"][0] == 0 and dialogue[\"speaker\"][1] == 1:\n",
    "        user_utterance = dialogue[\"utterance\"][0].strip()\n",
    "        bot_response = dialogue[\"utterance\"][1].strip()\n",
    "        single_turn = f\"{user} {user_utterance} {system} {bot_response} {eot}\"\n",
    "        dialogues.append(single_turn)\n",
    "    return dialogues\n",
    "\n",
    "def extract_text_segment(tokens, max_length, n, tokenizer):\n",
    "    start_idx = (n - 1) * max_length\n",
    "    end_idx = start_idx + max_length\n",
    "\n",
    "    segment_tokens = tokens[start_idx:end_idx]\n",
    "\n",
    "    # Decode back to text\n",
    "    segment_text = tokenizer.decode(segment_tokens, skip_special_tokens=True)\n",
    "\n",
    "    # Pad if necessary\n",
    "    if len(segment_tokens) < max_length:\n",
    "        pad_length = max_length - len(segment_tokens)\n",
    "        pad_token_id = tokenizer.convert_tokens_to_ids(pad)\n",
    "        segment_tokens.extend([pad_token_id] * pad_length)\n",
    "        segment_text = tokenizer.decode(segment_tokens, skip_special_tokens=True)\n",
    "    return segment_text"
   ]
  },
  {
   "cell_type": "code",
   "execution_count": 15,
   "id": "cfcc0625",
   "metadata": {},
   "outputs": [],
   "source": [
    "def preprocess_data_balanced(examples):\n",
    "\n",
    "    dialogues = []\n",
    "    block=1\n",
    "    for dialogue in examples['turns']:\n",
    "        single_list=extract_singleturn(dialogue)\n",
    "        dialogues.extend(single_list)\n",
    "        # extract general conversations.\n",
    "        if block<len(complementary_data):\n",
    "            general_list=extract_general(block=block,data=complementary_data)\n",
    "            dialogues.extend(general_list)\n",
    "        if block%2==0:\n",
    "            multi_list=extract_multiturn(dialogue,n_turn=8)\n",
    "            dialogues.append(multi_list)\n",
    "        block+=1\n",
    "   \n",
    "    tokenized_inputs = tokenizer(\n",
    "        dialogues, padding=\"max_length\", truncation=True, max_length=256\n",
    "    )\n",
    "\n",
    "    # Add labels as a copy of input_ids\n",
    "    tokenized_inputs[\"labels\"] = tokenized_inputs[\"input_ids\"].copy()\n",
    "\n",
    "    return tokenized_inputs"
   ]
  },
  {
   "cell_type": "markdown",
   "id": "f57e987d-67c7-44ef-b7f0-89d8422f7192",
   "metadata": {},
   "source": [
    "Note that the labels will be shifted by one token to the right inside the GPT-2 model."
   ]
  },
  {
   "cell_type": "code",
   "execution_count": 16,
   "id": "0dbb2786-fd23-4c81-9f95-df67ac36f03e",
   "metadata": {},
   "outputs": [],
   "source": [
    "train_data = dataset['train'].map(lambda x: preprocess_data_balanced(x), batched=True, remove_columns=['dialogue_id', 'services', 'turns'])\n",
    "val_data = dataset['validation'].map(lambda x: preprocess_data_balanced(x), batched=True, remove_columns=['dialogue_id', 'services', 'turns'])\n",
    "\n",
    "train_data = train_data.shuffle(seed=42)\n",
    "val_data = val_data.shuffle(seed=42)"
   ]
  },
  {
   "cell_type": "code",
   "execution_count": 17,
   "id": "d2139474-f1ce-43d7-97e2-2b37ace87b5c",
   "metadata": {},
   "outputs": [
    {
     "name": "stdout",
     "output_type": "stream",
     "text": [
      "There are 62659 conversations in total.\n"
     ]
    }
   ],
   "source": [
    "print(\"There are\", train_data.num_rows, \"conversations in total.\")"
   ]
  },
  {
   "cell_type": "markdown",
   "id": "9bef65cc-f55e-437e-bb68-592497a12fec",
   "metadata": {},
   "source": [
    "Detokenize a few examples from the tokenized train_data:"
   ]
  },
  {
   "cell_type": "code",
   "execution_count": 18,
   "id": "74e6e3f7-f9f9-4347-84a9-e720d4a20a84",
   "metadata": {},
   "outputs": [
    {
     "name": "stdout",
     "output_type": "stream",
     "text": [
      "Example 1: <|user|>  Yes, which one has room for six guests?  <|system|>  For what day would you like me to try booking for?  <|endofturn|>\n",
      "Example 2: <|user|>  Not really. Maybe a museum or theater, or something you find interesting.  <|system|>  I'd recommend adc theatre on park street, cb58as. Their phone number is 01223300085.  <|endofturn|>\n",
      "Example 3: <|user|>  Yes that would be great all the info thanks.  <|system|>  I think you'd enjoy Byard art.  <|endofturn|>\n",
      "Example 4: <|user|>  im also looking for a train that arrives by 08:15 and leaves on tuesday  <|system|>  Certainly, where would you like to depart from, and what is your destination?  <|endofturn|>\n"
     ]
    }
   ],
   "source": [
    "for i in range(4):  # Adjust the range if you want more or fewer examples\n",
    "    input_ids = train_data[i]['input_ids']\n",
    "    \n",
    "    # Filter out the padding tokens manually\n",
    "    input_ids_no_pad = [token_id for token_id in input_ids if token_id != tokenizer.pad_token_id]\n",
    "    \n",
    "    # Detokenize the sequence without the padding tokens\n",
    "    detokenized_sentence = tokenizer.decode(input_ids_no_pad, skip_special_tokens=False)\n",
    "    \n",
    "    print(f\"Example {i + 1}: {detokenized_sentence}\")"
   ]
  },
  {
   "cell_type": "markdown",
   "id": "40dc5056",
   "metadata": {},
   "source": [
    "## 2. Understanding Our Model: GPT-2\n",
    "\n",
    "<img src=\"LLM_Session2/Images/Transformers_graph.jpg\" alt=\"LM Studio logo\" style=\"width: 60%; display: inline-block;\" />\n",
    "\n",
    "\n",
    "Before we start building our chatbot, let’s review what makes GPT-2 a powerful language model for our task.\n",
    "\n",
    "### Why GPT-2?\n",
    "\n",
    "GPT-2 (Generative Pre-trained Transformer 2) is a **decoder-only transformer** model, which means it’s optimized for text generation tasks. Here are some key features:\n",
    "\n",
    "- **Self-Attention Mechanism**: GPT-2 uses self-attention layers to capture relationships between words, allowing it to generate coherent and contextually relevant text.\n",
    "- **Causal Language Modeling**: It’s trained to predict the next word in a sequence, making it well-suited for conversational applications.\n",
    "- **Pre-training and Fine-tuning**: GPT-2 has been trained on vast amounts of text data, giving it a strong baseline understanding of language (In the orange box). We will fine-tune it with our dataset to make it domain-specific for conversations.\n",
    "\n",
    "**Why fine-tuning?**  \n",
    "Instead of training a model from scratch (which is resource-intensive), we leverage GPT-2's pre-trained knowledge and adapt it for dialogue generation. This significantly reduces the time and data required to achieve good performance.\n",
    "\n",
    "---"
   ]
  },
  {
   "cell_type": "code",
   "execution_count": 20,
   "id": "506df0ac-3fa9-4fe9-9016-ee37d0a2312c",
   "metadata": {},
   "outputs": [
    {
     "data": {
      "application/vnd.jupyter.widget-view+json": {
       "model_id": "136ae5b85b7543dcbe3b8df71c7a9d03",
       "version_major": 2,
       "version_minor": 0
      },
      "text/plain": [
       "config.json:   0%|          | 0.00/689 [00:00<?, ?B/s]"
      ]
     },
     "metadata": {},
     "output_type": "display_data"
    },
    {
     "data": {
      "application/vnd.jupyter.widget-view+json": {
       "model_id": "4cda96a1ed71465ca4117bff04923787",
       "version_major": 2,
       "version_minor": 0
      },
      "text/plain": [
       "model.safetensors:   0%|          | 0.00/6.43G [00:00<?, ?B/s]"
      ]
     },
     "metadata": {},
     "output_type": "display_data"
    },
    {
     "data": {
      "application/vnd.jupyter.widget-view+json": {
       "model_id": "c13641abece44095b66a94481f95d1c3",
       "version_major": 2,
       "version_minor": 0
      },
      "text/plain": [
       "generation_config.json:   0%|          | 0.00/124 [00:00<?, ?B/s]"
      ]
     },
     "metadata": {},
     "output_type": "display_data"
    },
    {
     "data": {
      "text/plain": [
       "Embedding(50261, 1600)"
      ]
     },
     "execution_count": 20,
     "metadata": {},
     "output_type": "execute_result"
    }
   ],
   "source": [
    "model = GPT2LMHeadModel.from_pretrained(\"gpt2-xl\")\n",
    "model.resize_token_embeddings(len(tokenizer))"
   ]
  },
  {
   "cell_type": "code",
   "execution_count": 22,
   "id": "d6f871ae-a37a-457c-902f-48831e238929",
   "metadata": {},
   "outputs": [
    {
     "data": {
      "text/plain": [
       "====================================================================================================\n",
       "Layer (type:depth-idx)                             Output Shape              Param #\n",
       "====================================================================================================\n",
       "GPT2LMHeadModel                                    [1, 25, 512, 64]          --\n",
       "├─GPT2Model: 1-1                                   [1, 25, 512, 64]          --\n",
       "│    └─Embedding: 2-1                              [1, 512, 1600]            80,417,600\n",
       "│    └─Embedding: 2-2                              [1, 512, 1600]            1,638,400\n",
       "│    └─Dropout: 2-3                                [1, 512, 1600]            --\n",
       "│    └─ModuleList: 2-4                             --                        --\n",
       "│    │    └─GPT2Block: 3-1                         [1, 512, 1600]            30,740,800\n",
       "│    │    └─GPT2Block: 3-2                         [1, 512, 1600]            30,740,800\n",
       "│    │    └─GPT2Block: 3-3                         [1, 512, 1600]            30,740,800\n",
       "│    │    └─GPT2Block: 3-4                         [1, 512, 1600]            30,740,800\n",
       "│    │    └─GPT2Block: 3-5                         [1, 512, 1600]            30,740,800\n",
       "│    │    └─GPT2Block: 3-6                         [1, 512, 1600]            30,740,800\n",
       "│    │    └─GPT2Block: 3-7                         [1, 512, 1600]            30,740,800\n",
       "│    │    └─GPT2Block: 3-8                         [1, 512, 1600]            30,740,800\n",
       "│    │    └─GPT2Block: 3-9                         [1, 512, 1600]            30,740,800\n",
       "│    │    └─GPT2Block: 3-10                        [1, 512, 1600]            30,740,800\n",
       "│    │    └─GPT2Block: 3-11                        [1, 512, 1600]            30,740,800\n",
       "│    │    └─GPT2Block: 3-12                        [1, 512, 1600]            30,740,800\n",
       "│    │    └─GPT2Block: 3-13                        [1, 512, 1600]            30,740,800\n",
       "│    │    └─GPT2Block: 3-14                        [1, 512, 1600]            30,740,800\n",
       "│    │    └─GPT2Block: 3-15                        [1, 512, 1600]            30,740,800\n",
       "│    │    └─GPT2Block: 3-16                        [1, 512, 1600]            30,740,800\n",
       "│    │    └─GPT2Block: 3-17                        [1, 512, 1600]            30,740,800\n",
       "│    │    └─GPT2Block: 3-18                        [1, 512, 1600]            30,740,800\n",
       "│    │    └─GPT2Block: 3-19                        [1, 512, 1600]            30,740,800\n",
       "│    │    └─GPT2Block: 3-20                        [1, 512, 1600]            30,740,800\n",
       "│    │    └─GPT2Block: 3-21                        [1, 512, 1600]            30,740,800\n",
       "│    │    └─GPT2Block: 3-22                        [1, 512, 1600]            30,740,800\n",
       "│    │    └─GPT2Block: 3-23                        [1, 512, 1600]            30,740,800\n",
       "│    │    └─GPT2Block: 3-24                        [1, 512, 1600]            30,740,800\n",
       "│    │    └─GPT2Block: 3-25                        [1, 512, 1600]            30,740,800\n",
       "│    │    └─GPT2Block: 3-26                        [1, 512, 1600]            30,740,800\n",
       "│    │    └─GPT2Block: 3-27                        [1, 512, 1600]            30,740,800\n",
       "│    │    └─GPT2Block: 3-28                        [1, 512, 1600]            30,740,800\n",
       "│    │    └─GPT2Block: 3-29                        [1, 512, 1600]            30,740,800\n",
       "│    │    └─GPT2Block: 3-30                        [1, 512, 1600]            30,740,800\n",
       "│    │    └─GPT2Block: 3-31                        [1, 512, 1600]            30,740,800\n",
       "│    │    └─GPT2Block: 3-32                        [1, 512, 1600]            30,740,800\n",
       "│    │    └─GPT2Block: 3-33                        [1, 512, 1600]            30,740,800\n",
       "│    │    └─GPT2Block: 3-34                        [1, 512, 1600]            30,740,800\n",
       "│    │    └─GPT2Block: 3-35                        [1, 512, 1600]            30,740,800\n",
       "│    │    └─GPT2Block: 3-36                        [1, 512, 1600]            30,740,800\n",
       "│    │    └─GPT2Block: 3-37                        [1, 512, 1600]            30,740,800\n",
       "│    │    └─GPT2Block: 3-38                        [1, 512, 1600]            30,740,800\n",
       "│    │    └─GPT2Block: 3-39                        [1, 512, 1600]            30,740,800\n",
       "│    │    └─GPT2Block: 3-40                        [1, 512, 1600]            30,740,800\n",
       "│    │    └─GPT2Block: 3-41                        [1, 512, 1600]            30,740,800\n",
       "│    │    └─GPT2Block: 3-42                        [1, 512, 1600]            30,740,800\n",
       "│    │    └─GPT2Block: 3-43                        [1, 512, 1600]            30,740,800\n",
       "│    │    └─GPT2Block: 3-44                        [1, 512, 1600]            30,740,800\n",
       "│    │    └─GPT2Block: 3-45                        [1, 512, 1600]            30,740,800\n",
       "│    │    └─GPT2Block: 3-46                        [1, 512, 1600]            30,740,800\n",
       "│    │    └─GPT2Block: 3-47                        [1, 512, 1600]            30,740,800\n",
       "│    │    └─GPT2Block: 3-48                        [1, 512, 1600]            30,740,800\n",
       "│    └─LayerNorm: 2-5                              [1, 512, 1600]            3,200\n",
       "├─Linear: 1-2                                      [1, 512, 50261]           80,417,600\n",
       "====================================================================================================\n",
       "Total params: 1,638,035,200\n",
       "Trainable params: 1,638,035,200\n",
       "Non-trainable params: 0\n",
       "Total mult-adds (T): 5.90\n",
       "====================================================================================================\n",
       "Input size (MB): 0.00\n",
       "Forward/backward pass size (MB): 3685.83\n",
       "Params size (MB): 6552.14\n",
       "Estimated Total Size (MB): 10237.98\n",
       "===================================================================================================="
      ]
     },
     "execution_count": 22,
     "metadata": {},
     "output_type": "execute_result"
    }
   ],
   "source": [
    "# Print the model summary:\n",
    "summary(model, input_data=torch.zeros((1, 512), dtype=torch.long), device='cpu')"
   ]
  },
  {
   "cell_type": "code",
   "execution_count": 23,
   "id": "89d15658-1351-4e89-995a-fa568385ca71",
   "metadata": {},
   "outputs": [
    {
     "name": "stderr",
     "output_type": "stream",
     "text": [
      "/home/klleshi/miniconda3/envs/NLP/lib/python3.10/site-packages/transformers/training_args.py:1474: FutureWarning: `evaluation_strategy` is deprecated and will be removed in version 4.46 of 🤗 Transformers. Use `eval_strategy` instead\n",
      "  warnings.warn(\n"
     ]
    }
   ],
   "source": [
    "# Specify the hyperparameters:\n",
    "training_args = TrainingArguments(\n",
    "    output_dir=PATH_RESULTS,  # Directory to save the model checkpoints and other outputs.\n",
    "    max_steps=3000,  # Total number of training steps. The model will stop training once this number is reached.\n",
    "    optim=\"adamw_torch\",  # Optimizer to use during training. 'adamw_torch' refers to AdamW implemented in PyTorch.\n",
    "    learning_rate=5e-5,  # Learning rate used for the optimizer, which controls how much to adjust the weights with respect to the gradient.\n",
    "    weight_decay=0.01,  # Weight decay (L2 regularization) to prevent overfitting by penalizing large weights.\n",
    "    per_device_train_batch_size=16,  # Number of samples per batch for training on each device (e.g., GPU).\n",
    "    per_device_eval_batch_size=16,  # Number of samples per batch for evaluation on each device.\n",
    "    gradient_accumulation_steps=4,  # Number of steps to accumulate gradients before updating model weights, allowing larger effective batch sizes.\n",
    "    gradient_checkpointing=True,  # Save memory by checkpointing gradients, which trades compute time for memory.\n",
    "    warmup_steps=100,  # Number of warmup steps during which the learning rate linearly increases from 0 to the specified value.\n",
    "    lr_scheduler_type=\"linear\",  # Learning rate schedule, with 'linear' meaning it decreases linearly after the warmup phase.\n",
    "    evaluation_strategy=\"steps\",  # Perform evaluation at regular steps, as opposed to other strategies like 'epoch'.\n",
    "    eval_steps=50,  # Number of training steps between evaluations (to check performance on the validation set).\n",
    "    logging_steps=50,  # Number of steps between logging events, used to monitor training progress.\n",
    "    log_level=\"info\",  # The verbosity of logging, 'passive' logging will only occur if you manually enable it.\n",
    "    save_steps=100,  # Number of steps between saving model checkpoints.\n",
    "    save_total_limit=2,  # Maximum number of model checkpoints to keep. Older checkpoints will be deleted when this limit is exceeded.\n",
    "    disable_tqdm=False,  # Whether or not to disable the progress bar ('tqdm'). False means the progress bar will be displayed.\n",
    "    report_to=\"none\",  # This ensures no reporting to any integrations\n",
    ")"
   ]
  },
  {
   "cell_type": "code",
   "execution_count": 24,
   "id": "40e6e049-c13b-4088-9a23-d8b477936f77",
   "metadata": {},
   "outputs": [
    {
     "name": "stderr",
     "output_type": "stream",
     "text": [
      "max_steps is given, it will override any value given in num_train_epochs\n"
     ]
    }
   ],
   "source": [
    "trainer = Trainer(\n",
    "    model=model,\n",
    "    args=training_args,\n",
    "    tokenizer=tokenizer,\n",
    "    train_dataset=train_data,\n",
    "    eval_dataset=val_data)"
   ]
  },
  {
   "cell_type": "markdown",
   "id": "f7eff6d2",
   "metadata": {},
   "source": [
    "<div class=\"alert alert-block alert-danger\">\n",
    "⚠️ DO NOT TRAIN MODELS ON JUPYTER LAB BECAUSE OUR SERVER MAY CRASH\n",
    "</div>"
   ]
  },
  {
   "cell_type": "markdown",
   "id": "402aefa6",
   "metadata": {},
   "source": [
    "If you are running on your laptop or Curnagle, you can fine-tune `GPT2`."
   ]
  },
  {
   "cell_type": "code",
   "execution_count": 6,
   "id": "40ff740c-bc5a-4b26-aee7-c9a0818fe0cc",
   "metadata": {},
   "outputs": [],
   "source": [
    "if platform==\"jupyter\":\n",
    "    train_now = False\n",
    "else:\n",
    "    train_now= False"
   ]
  },
  {
   "cell_type": "code",
   "execution_count": 26,
   "id": "6f301ec9-6d6d-4a4a-b905-d716b9ebea84",
   "metadata": {},
   "outputs": [
    {
     "name": "stdout",
     "output_type": "stream",
     "text": [
      "Retrieving folder contents\n",
      "Processing file 11VTK6q42yWGrEhJs63dp0Y1cGTuYCRRC added_tokens.json\n",
      "Processing file 166kGbiTv8sKi67spRJNu0eOh_RolEBpo config.json\n",
      "Processing file 1VkHPRDnxSvTjXohFkS4J9efPDu2thHRS generation_config.json\n",
      "Processing file 1dGz59X1L64Ye4U5n_e0pHCbdfbSZ-YmG loss_curves.png\n",
      "Processing file 1UbjCcZFSqXm07NK_-LNgrsuR6fk49wis merges.txt\n",
      "Processing file 188Mzz6Qmcu-HztAtB3lniwg0EEHwHEyj metadata.json\n",
      "Processing file 1SdT3pTRX5tgEJZL2Go3vxh884FnJefyu model-00001-of-00002.safetensors\n",
      "Processing file 18mfIwtzFqu2zHclwj2fqzq9oT6zYeAq0 model-00002-of-00002.safetensors\n",
      "Processing file 1dKE2HIjm4WOaHF2XvyFABf84I_5H16Nq model.safetensors.index.json\n",
      "Processing file 1uj5l9jSWXYz2mVf0EPXGHJom16FOBQZt special_tokens_map.json\n",
      "Processing file 1wEX2S1U5xHr1Rj1oL_ZRlPuF8GhPkpzl tokenizer_config.json\n",
      "Processing file 1cr0Vl5QmNH7Kxqp404-hv88f32DRaTVt tokenizer.json\n",
      "Processing file 14vwdBtvvdYTlEnY7WsPXZoskv24zeRk_ vocab.json\n",
      "Retrieving folder contents completed\n",
      "Building directory structure\n",
      "Building directory structure completed\n",
      "Downloading...\n",
      "From: https://drive.google.com/uc?id=11VTK6q42yWGrEhJs63dp0Y1cGTuYCRRC\n",
      "To: /home/klleshi/Documents/Clusters/curnagl/LLM/chatbot/Notebooks/LLM_Session2/Models/added_tokens.json\n",
      "100%|█████████████████████████████████████████| 93.0/93.0 [00:00<00:00, 949kB/s]\n",
      "Downloading...\n",
      "From: https://drive.google.com/uc?id=166kGbiTv8sKi67spRJNu0eOh_RolEBpo\n",
      "To: /home/klleshi/Documents/Clusters/curnagl/LLM/chatbot/Notebooks/LLM_Session2/Models/config.json\n",
      "100%|██████████████████████████████████████████| 934/934 [00:00<00:00, 5.98MB/s]\n",
      "Downloading...\n",
      "From: https://drive.google.com/uc?id=1VkHPRDnxSvTjXohFkS4J9efPDu2thHRS\n",
      "To: /home/klleshi/Documents/Clusters/curnagl/LLM/chatbot/Notebooks/LLM_Session2/Models/generation_config.json\n",
      "100%|███████████████████████████████████████████| 119/119 [00:00<00:00, 725kB/s]\n",
      "Downloading...\n",
      "From: https://drive.google.com/uc?id=1dGz59X1L64Ye4U5n_e0pHCbdfbSZ-YmG\n",
      "To: /home/klleshi/Documents/Clusters/curnagl/LLM/chatbot/Notebooks/LLM_Session2/Models/loss_curves.png\n",
      "100%|███████████████████████████████████████| 31.2k/31.2k [00:00<00:00, 103MB/s]\n",
      "Downloading...\n",
      "From: https://drive.google.com/uc?id=1UbjCcZFSqXm07NK_-LNgrsuR6fk49wis\n",
      "To: /home/klleshi/Documents/Clusters/curnagl/LLM/chatbot/Notebooks/LLM_Session2/Models/merges.txt\n",
      "100%|████████████████████████████████████████| 456k/456k [00:00<00:00, 18.1MB/s]\n",
      "Downloading...\n",
      "From: https://drive.google.com/uc?id=188Mzz6Qmcu-HztAtB3lniwg0EEHwHEyj\n",
      "To: /home/klleshi/Documents/Clusters/curnagl/LLM/chatbot/Notebooks/LLM_Session2/Models/metadata.json\n",
      "100%|██████████████████████████████████████| 5.09k/5.09k [00:00<00:00, 20.4MB/s]\n",
      "Downloading...\n",
      "From (original): https://drive.google.com/uc?id=1SdT3pTRX5tgEJZL2Go3vxh884FnJefyu\n",
      "From (redirected): https://drive.google.com/uc?id=1SdT3pTRX5tgEJZL2Go3vxh884FnJefyu&confirm=t&uuid=2c22d082-3e47-458a-a5f4-aa8f93b56412\n",
      "To: /home/klleshi/Documents/Clusters/curnagl/LLM/chatbot/Notebooks/LLM_Session2/Models/model-00001-of-00002.safetensors\n",
      "100%|██████████████████████████████████████| 4.96G/4.96G [01:17<00:00, 64.1MB/s]\n",
      "Downloading...\n",
      "From (original): https://drive.google.com/uc?id=18mfIwtzFqu2zHclwj2fqzq9oT6zYeAq0\n",
      "From (redirected): https://drive.google.com/uc?id=18mfIwtzFqu2zHclwj2fqzq9oT6zYeAq0&confirm=t&uuid=2394470c-4773-4c26-ad2e-5072a8e79988\n",
      "To: /home/klleshi/Documents/Clusters/curnagl/LLM/chatbot/Notebooks/LLM_Session2/Models/model-00002-of-00002.safetensors\n",
      "100%|██████████████████████████████████████| 1.27G/1.27G [00:22<00:00, 57.0MB/s]\n",
      "Downloading...\n",
      "From: https://drive.google.com/uc?id=1dKE2HIjm4WOaHF2XvyFABf84I_5H16Nq\n",
      "To: /home/klleshi/Documents/Clusters/curnagl/LLM/chatbot/Notebooks/LLM_Session2/Models/model.safetensors.index.json\n",
      "100%|██████████████████████████████████████| 43.4k/43.4k [00:00<00:00, 94.5MB/s]\n",
      "Downloading...\n",
      "From: https://drive.google.com/uc?id=1uj5l9jSWXYz2mVf0EPXGHJom16FOBQZt\n",
      "To: /home/klleshi/Documents/Clusters/curnagl/LLM/chatbot/Notebooks/LLM_Session2/Models/special_tokens_map.json\n",
      "100%|██████████████████████████████████████████| 709/709 [00:00<00:00, 5.27MB/s]\n",
      "Downloading...\n",
      "From: https://drive.google.com/uc?id=1wEX2S1U5xHr1Rj1oL_ZRlPuF8GhPkpzl\n",
      "To: /home/klleshi/Documents/Clusters/curnagl/LLM/chatbot/Notebooks/LLM_Session2/Models/tokenizer_config.json\n",
      "100%|██████████████████████████████████████| 1.26k/1.26k [00:00<00:00, 8.76MB/s]\n",
      "Downloading...\n",
      "From: https://drive.google.com/uc?id=1cr0Vl5QmNH7Kxqp404-hv88f32DRaTVt\n",
      "To: /home/klleshi/Documents/Clusters/curnagl/LLM/chatbot/Notebooks/LLM_Session2/Models/tokenizer.json\n",
      "100%|██████████████████████████████████████| 2.11M/2.11M [00:00<00:00, 45.6MB/s]\n",
      "Downloading...\n",
      "From: https://drive.google.com/uc?id=14vwdBtvvdYTlEnY7WsPXZoskv24zeRk_\n",
      "To: /home/klleshi/Documents/Clusters/curnagl/LLM/chatbot/Notebooks/LLM_Session2/Models/vocab.json\n",
      "100%|████████████████████████████████████████| 798k/798k [00:00<00:00, 25.9MB/s]\n",
      "Download completed\n"
     ]
    },
    {
     "name": "stderr",
     "output_type": "stream",
     "text": [
      "loading configuration file ././LLM_Session2/Models/config.json\n",
      "Model config GPT2Config {\n",
      "  \"_name_or_path\": \"gpt2-xl\",\n",
      "  \"activation_function\": \"gelu_new\",\n",
      "  \"architectures\": [\n",
      "    \"GPT2LMHeadModel\"\n",
      "  ],\n",
      "  \"attn_pdrop\": 0.1,\n",
      "  \"bos_token_id\": 50256,\n",
      "  \"embd_pdrop\": 0.1,\n",
      "  \"eos_token_id\": 50256,\n",
      "  \"initializer_range\": 0.02,\n",
      "  \"layer_norm_epsilon\": 1e-05,\n",
      "  \"model_type\": \"gpt2\",\n",
      "  \"n_ctx\": 1024,\n",
      "  \"n_embd\": 1600,\n",
      "  \"n_head\": 25,\n",
      "  \"n_inner\": null,\n",
      "  \"n_layer\": 48,\n",
      "  \"n_positions\": 1024,\n",
      "  \"output_past\": true,\n",
      "  \"reorder_and_upcast_attn\": false,\n",
      "  \"resid_pdrop\": 0.1,\n",
      "  \"scale_attn_by_inverse_layer_idx\": false,\n",
      "  \"scale_attn_weights\": true,\n",
      "  \"summary_activation\": null,\n",
      "  \"summary_first_dropout\": 0.1,\n",
      "  \"summary_proj_to_labels\": true,\n",
      "  \"summary_type\": \"cls_index\",\n",
      "  \"summary_use_proj\": true,\n",
      "  \"task_specific_params\": {\n",
      "    \"text-generation\": {\n",
      "      \"do_sample\": true,\n",
      "      \"max_length\": 50\n",
      "    }\n",
      "  },\n",
      "  \"torch_dtype\": \"float32\",\n",
      "  \"transformers_version\": \"4.41.2\",\n",
      "  \"use_cache\": true,\n",
      "  \"vocab_size\": 50261\n",
      "}\n",
      "\n",
      "Generate config GenerationConfig {\n",
      "  \"bos_token_id\": 50256,\n",
      "  \"eos_token_id\": 50256\n",
      "}\n",
      "\n"
     ]
    },
    {
     "data": {
      "application/vnd.jupyter.widget-view+json": {
       "model_id": "97f03b589f134938916bf869217f3938",
       "version_major": 2,
       "version_minor": 0
      },
      "text/plain": [
       "Loading checkpoint shards:   0%|          | 0/2 [00:00<?, ?it/s]"
      ]
     },
     "metadata": {},
     "output_type": "display_data"
    },
    {
     "name": "stderr",
     "output_type": "stream",
     "text": [
      "loading configuration file ././LLM_Session2/Models/generation_config.json\n",
      "Generate config GenerationConfig {\n",
      "  \"bos_token_id\": 50256,\n",
      "  \"eos_token_id\": 50256\n",
      "}\n",
      "\n",
      "loading file vocab.json\n",
      "loading file merges.txt\n",
      "loading file tokenizer.json\n",
      "loading file added_tokens.json\n",
      "loading file special_tokens_map.json\n",
      "loading file tokenizer_config.json\n",
      "Special tokens have been added in the vocabulary, make sure the associated word embeddings are fine-tuned or trained.\n"
     ]
    },
    {
     "name": "stdout",
     "output_type": "stream",
     "text": [
      "Model and tokenizer loaded successfully in laptop!\n"
     ]
    }
   ],
   "source": [
    "if train_now:\n",
    "    # Train the model\n",
    "    trainer.train()\n",
    "\n",
    "    # Save the model, tokenizer, and training log\n",
    "    model_save_path = os.path.join(PATH_MODELS, \"GPT2chat_single_turn\")\n",
    "    model.save_pretrained(model_save_path)\n",
    "    tokenizer.save_pretrained(model_save_path)\n",
    "\n",
    "    log_history = trainer.state.log_history\n",
    "    log_file_path = os.path.join(model_save_path, 'log_history.json')\n",
    "    with open(log_file_path, 'w') as f:\n",
    "        json.dump(log_history, f)\n",
    "\n",
    "elif platform!=\"jupyter\":\n",
    "    # Define the file ID and output file name\n",
    "    folder_id='1vRKkIzh6ZPiisQ9NqENyraNPnNWVE59Q'\n",
    "    output_folder = PATH_MODELS  # Name to save the folder locally\n",
    "    # Use gdown to download the file from Google Drive\n",
    "    !gdown --folder https://drive.google.com/drive/folders/$folder_id -O $output_folder\n",
    "    # Load the model and tokenizer directly from the downloaded file\n",
    "    model_path = f'./{output_folder}'  # Path to the downloaded model file\n",
    "    model = GPT2LMHeadModel.from_pretrained(model_path)\n",
    "    tokenizer = AutoTokenizer.from_pretrained(model_path)\n",
    "\n",
    "    print(f\"Model and tokenizer loaded successfully in {platform}!\")\n",
    "\n",
    "elif platform==\"jupyter\":\n",
    "    model = GPT2LMHeadModel.from_pretrained(PATH_MODELS)\n",
    "    tokenizer = AutoTokenizer.from_pretrained(PATH_MODELS)\n",
    "    print(f\"Model and tokenizer loaded successfully in {platform}!\")\n"
   ]
  },
  {
   "cell_type": "code",
   "execution_count": 14,
   "id": "289e278d-a1e4-4b1e-ab28-d4f10b16f363",
   "metadata": {},
   "outputs": [
    {
     "data": {
      "image/png": "[encoded data removed]",
      "text/plain": [
       "<Figure size 1200x600 with 1 Axes>"
      ]
     },
     "metadata": {},
     "output_type": "display_data"
    }
   ],
   "source": [
    "# Plot the training and validation loss\n",
    "if train_now:\n",
    "    steps = sorted(set(log['step'] for log in log_history if 'step' in log))\n",
    "    losses = [log['loss'] for log in log_history if 'loss' in log]\n",
    "    val_losses = [log['eval_loss'] for log in log_history if 'eval_loss' in log]\n",
    "\n",
    "    plt.figure(figsize=(12, 6))\n",
    "    plt.plot(steps, losses, label='Training Loss')\n",
    "    plt.plot(steps, val_losses, label='Validation Loss')\n",
    "    plt.xlabel('Step')\n",
    "    plt.ylabel('Loss')\n",
    "    plt.legend()\n",
    "    plt.title('Training and Validation Loss over Steps')\n",
    "\n",
    "    # Save the plot in PATH_RESULTS\n",
    "    loss_curve_path = os.path.join(PATH_RESULTS, \"loss_curves.png\")\n",
    "    plt.savefig(loss_curve_path, format='png')\n",
    "    plt.show()\n",
    "\n",
    "    print(f\"Loss curve saved in {loss_curve_path}\")\n",
    "else: \n",
    "    img = mpimg.imread(\"LLM_Session2/Models/loss_curves.png\")\n",
    "    # Display the image\n",
    "    plt.figure(figsize=(12, 6))\n",
    "    plt.imshow(img)\n",
    "    plt.axis('off') \n",
    "    plt.show()"
   ]
  },
  {
   "cell_type": "markdown",
   "id": "46614715",
   "metadata": {},
   "source": [
    "## Trying Out the Chatbot\n",
    "\n",
    "Now that we have fine-tuned our GPT-2 model, it's time to test it in an interactive way! In this section, we'll create a simple function that allows you to have a conversation with the chatbot. The goal is to observe how the model responds to different prompts and how well it can maintain the context of a conversation.\n",
    "The MultiWOZ dataset contains mostly factual information about booking a hotel room or travelling between cities.\n",
    "\n",
    "However, GPT-2 is pretrained on a huge dataset and contains encoded informaiton. \n",
    "Does it recognise historical figures, such as Albert Einstain or Isac Newton?"
   ]
  },
  {
   "cell_type": "markdown",
   "id": "a01a9524",
   "metadata": {},
   "source": [
    "#### Controll the output of the Chatbot\n",
    "\n",
    "- Greedy Search Decoding (Deterministic)\n",
    "\n",
    "    The simplest decoding method to get discrete tokens from a model’s continuous output is to greedily select the token with the highest probability at each timestep.\n",
    "    \n",
    "    ```python\n",
    "    model.generate(\n",
    "    input_ids,\n",
    "    max_length=max_length,\n",
    "    do_sample=False,\n",
    "    pad_token_id=tokenizer.pad_token_id,\n",
    "    eos_token_id=tokenizer.convert_tokens_to_ids('<|endofturn|>'))\n",
    "\n",
    "- Sampling Methods (Porbabilistic)\n",
    "\n",
    "    The simplest sampling method is to randomly sample from the probability distribution of the model’s outputs over the full vocabulary at each timestep. This approach makes the model more 'creative'. Here, we suggest to restrict the acces to the `top_p` and `top_k` number of possible tokens.\n",
    "    Additionally, we can control the selection of the `temperature`. When T ≪ 1, the distribution becomes peaked around the origin and the rare tokens are suppressed. On the other hand, when T ≫ 1, the distribution flattens out and each token becomes equally likely.\n",
    "\n",
    "    ```python \n",
    "    model.generate(input_ids, \n",
    "    max_length=max_length,\n",
    "    do_sample=True, temperature=2, top_k=50, \n",
    "    pad_token_id=tokenizer.pad_token_id,\n",
    "    eos_token_id=tokenizer.convert_tokens_to_ids('<|endofturn|>'))"
   ]
  },
  {
   "cell_type": "code",
   "execution_count": 29,
   "id": "6af9b19d",
   "metadata": {},
   "outputs": [],
   "source": [
    "# Make sure the model is in evaluation mode\n",
    "model.eval()\n",
    "model.to(device)\n",
    "\n",
    "\n",
    "def chat_with_bot(input_text, previous_chat,count,max_length=256):\n",
    "    # Encode the input text based on whether it's the first message or not\n",
    "    if count == 0:\n",
    "        input_text = f\"<|user|> {input_text}<|system|>\"\n",
    "    else:\n",
    "        input_text = f\"{previous_chat}<|user|> {input_text}<|system|>\"\n",
    "    \n",
    "    # print(\"INPUT: \",count, input_text)\n",
    "    # Encode the input text\n",
    "    input_ids = tokenizer.encode(input_text, return_tensors=\"pt\").to(device)\n",
    "\n",
    "\n",
    "    # Generate the response\n",
    "    output = model.generate(\n",
    "        input_ids,\n",
    "        max_length=max_length,\n",
    "        num_return_sequences=1,\n",
    "        pad_token_id=tokenizer.pad_token_id,\n",
    "        eos_token_id=tokenizer.convert_tokens_to_ids('<|endofturn|>'),\n",
    "    )\n",
    "\n",
    "    # Decode the output, skipping special tokens\n",
    "    response = tokenizer.decode(\n",
    "        output[:, input_ids.shape[-1] :][0], skip_special_tokens=True\n",
    "    )\n",
    "    return response, input_text + response\n"
   ]
  },
  {
   "cell_type": "code",
   "execution_count": 30,
   "id": "9f55a308-bab4-43f2-a1b8-caf2aabe8b47",
   "metadata": {},
   "outputs": [
    {
     "name": "stdout",
     "output_type": "stream",
     "text": [
      "Start chatting with the bot! Type 'exit' to stop.\n",
      "GPT2chat:  I am looking for a place to stay. The hotel should be in the type of guesthouse and should include free parking.  I have several\n"
     ]
    }
   ],
   "source": [
    "print(\"Start chatting with the bot! Type 'exit' to stop.\")\n",
    "previous_chat = \"\"\n",
    "count = 0\n",
    "while True:\n",
    "    prompt = input(\"You: \")\n",
    "    if prompt.lower() == 'exit':\n",
    "        break\n",
    "    response, previous_chat = chat_with_bot(prompt, previous_chat,count)\n",
    "    count+=1\n",
    "    cleaned_response = response.replace(prompt, '').strip() if prompt in response else response \n",
    "    print(f\"GPT2chat: {cleaned_response}\")"
   ]
  },
  {
   "cell_type": "markdown",
   "id": "68ac7c17-99dd-4615-8820-7e15610f1019",
   "metadata": {},
   "source": [
    "### Compare the above fine-tuned GPT2chat with the default pre-trained text generator GPT2text (allowing creative texts):"
   ]
  },
  {
   "cell_type": "code",
   "execution_count": 19,
   "id": "af2ae5aa-f150-4d82-9128-a8c851357948",
   "metadata": {},
   "outputs": [],
   "source": [
    "transformers_logging.set_verbosity_error()\n",
    "tokenizer_pretrained = GPT2Tokenizer.from_pretrained('gpt2')\n",
    "model_pretrained = GPT2LMHeadModel.from_pretrained(\"gpt2\")\n",
    "model_pretrained.eval()\n",
    "model_pretrained.to(device)\n",
    "\n",
    "def generate_response_pretrained(prompt, model_pretrained, tokenizer_pretrained, temperature=0.7):\n",
    "    inputs = tokenizer_pretrained.encode(prompt, return_tensors=\"pt\").to(device)\n",
    "    outputs = model_pretrained.generate(\n",
    "        inputs,\n",
    "        max_new_tokens=100,\n",
    "        num_return_sequences=1,\n",
    "        no_repeat_ngram_size=2,\n",
    "        do_sample=True,\n",
    "        top_k=150,\n",
    "        top_p=0.9,\n",
    "        temperature=temperature,\n",
    "    )\n",
    "    response = tokenizer_pretrained.decode(outputs[0], skip_special_tokens=True)\n",
    "    return response"
   ]
  },
  {
   "cell_type": "code",
   "execution_count": 21,
   "id": "8c41010b-b24b-498d-a92c-ad4d81b91e48",
   "metadata": {},
   "outputs": [
    {
     "name": "stdout",
     "output_type": "stream",
     "text": [
      "GPT2text: In a shocking finding, scientist discovered a herd of unicorns living in a remote, previously unexplored valley, in the Andes Mountains. Even more surprising to the researchers was the fact that the unicorns spoke perfect English.\n",
      "\n",
      "\"This is the first time that we have ever found a unicorn that speaks perfect Spanish,\" says Michael Zaretsky, the lead researcher on the study. \"The unicorn is a hybrid of a European and American unicorn, which means that it's one of the only unicurs to speak the language. It's the best known of these unicurals, and this is only the beginning.\"\n",
      "...\n",
      " In addition to communicating with the animal, researchers also found that unic\n"
     ]
    }
   ],
   "source": [
    "Sugested_prompt=\"In a shocking finding, scientist discovered a herd of unicorns living in a remote, previously unexplored valley, in the Andes Mountains. Even more surprising to the researchers was the fact that the unicorns spoke perfect English.\"\n",
    "\n",
    "response = generate_response_pretrained(Sugested_prompt, model_pretrained, tokenizer_pretrained)\n",
    "print(f\"GPT2text: {response}\")"
   ]
  },
  {
   "cell_type": "code",
   "execution_count": 18,
   "id": "a2207804",
   "metadata": {},
   "outputs": [],
   "source": []
  },
  {
   "cell_type": "code",
   "execution_count": null,
   "id": "83293e3e",
   "metadata": {},
   "outputs": [],
   "source": []
  }
 ],
 "metadata": {
  "kernelspec": {
   "display_name": "Python 3 (ipykernel)",
   "language": "python",
   "name": "python3"
  },
  "language_info": {
   "codemirror_mode": {
    "name": "ipython",
    "version": 3
   },
   "file_extension": ".py",
   "mimetype": "text/x-python",
   "name": "python",
   "nbconvert_exporter": "python",
   "pygments_lexer": "ipython3",
   "version": "3.10.15"
  }
 },
 "nbformat": 4,
 "nbformat_minor": 5
}
