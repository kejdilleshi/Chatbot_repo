{
 "cells": [
  {
   "cell_type": "code",
   "execution_count": 1,
   "id": "12744b78",
   "metadata": {
    "execution": {
     "iopub.execute_input": "2024-10-22T16:53:44.757141Z",
     "iopub.status.busy": "2024-10-22T16:53:44.756916Z",
     "iopub.status.idle": "2024-10-22T16:54:21.752648Z",
     "shell.execute_reply": "2024-10-22T16:54:21.752125Z"
    },
    "papermill": {
     "duration": 37.002497,
     "end_time": "2024-10-22T16:54:21.754360",
     "exception": false,
     "start_time": "2024-10-22T16:53:44.751863",
     "status": "completed"
    },
    "tags": []
   },
   "outputs": [],
   "source": [
    "import torch\n",
    "from transformers import (\n",
    "    GPT2Tokenizer,\n",
    "    GPT2LMHeadModel,\n",
    "    Trainer,\n",
    "    TrainingArguments,\n",
    "    logging,\n",
    ")\n",
    "from torchinfo import summary\n",
    "import json\n",
    "\n",
    "from collections import Counter\n",
    "from transformers import logging as transformers_logging\n",
    "\n",
    "from datasets import load_dataset\n",
    "from save_results import SaveResults\n",
    "from read_config import get_args\n",
    "from utils import set_seed\n",
    "import warnings\n",
    "import logging\n",
    "import random\n",
    "import numpy as np\n",
    "import transformers\n",
    "import matplotlib.pyplot as plt"
   ]
  },
  {
   "cell_type": "code",
   "execution_count": 2,
   "id": "526ad344",
   "metadata": {
    "execution": {
     "iopub.execute_input": "2024-10-22T16:54:21.795736Z",
     "iopub.status.busy": "2024-10-22T16:54:21.795428Z",
     "iopub.status.idle": "2024-10-22T16:54:21.948164Z",
     "shell.execute_reply": "2024-10-22T16:54:21.947725Z"
    },
    "papermill": {
     "duration": 0.157656,
     "end_time": "2024-10-22T16:54:21.949364",
     "exception": false,
     "start_time": "2024-10-22T16:54:21.791708",
     "status": "completed"
    },
    "tags": []
   },
   "outputs": [
    {
     "name": "stdout",
     "output_type": "stream",
     "text": [
      "Training on cuda\n"
     ]
    }
   ],
   "source": [
    "device = \"cuda\" if torch.cuda.is_available() else \"cpu\"\n",
    "print(f\"Training on {device}\")"
   ]
  },
  {
   "cell_type": "code",
   "execution_count": 3,
   "id": "2240bf01",
   "metadata": {
    "execution": {
     "iopub.execute_input": "2024-10-22T16:54:21.956690Z",
     "iopub.status.busy": "2024-10-22T16:54:21.956506Z",
     "iopub.status.idle": "2024-10-22T16:54:21.960835Z",
     "shell.execute_reply": "2024-10-22T16:54:21.960430Z"
    },
    "papermill": {
     "duration": 0.009243,
     "end_time": "2024-10-22T16:54:21.961982",
     "exception": false,
     "start_time": "2024-10-22T16:54:21.952739",
     "status": "completed"
    },
    "tags": []
   },
   "outputs": [],
   "source": [
    "warnings.filterwarnings(\"ignore\", category=FutureWarning, module=\"huggingface_hub.file_download\")\n",
    "logging.getLogger(\"transformers.modeling_utils\").setLevel(logging.ERROR)\n",
    "transformers_logging.set_verbosity_error()"
   ]
  },
  {
   "cell_type": "code",
   "execution_count": 4,
   "id": "6afd0101",
   "metadata": {
    "execution": {
     "iopub.execute_input": "2024-10-22T16:54:21.969073Z",
     "iopub.status.busy": "2024-10-22T16:54:21.968906Z",
     "iopub.status.idle": "2024-10-22T16:54:22.089603Z",
     "shell.execute_reply": "2024-10-22T16:54:22.089175Z"
    },
    "papermill": {
     "duration": 0.125737,
     "end_time": "2024-10-22T16:54:22.090954",
     "exception": false,
     "start_time": "2024-10-22T16:54:21.965217",
     "status": "completed"
    },
    "tags": []
   },
   "outputs": [],
   "source": [
    "seed = 0\n",
    "random.seed(seed)\n",
    "np.random.seed(seed)\n",
    "torch.manual_seed(seed)\n",
    "transformers.set_seed(seed)"
   ]
  },
  {
   "cell_type": "code",
   "execution_count": 5,
   "id": "f082ec7e",
   "metadata": {
    "execution": {
     "iopub.execute_input": "2024-10-22T16:54:22.121669Z",
     "iopub.status.busy": "2024-10-22T16:54:22.121469Z",
     "iopub.status.idle": "2024-10-22T16:54:25.064290Z",
     "shell.execute_reply": "2024-10-22T16:54:25.063823Z"
    },
    "papermill": {
     "duration": 2.970812,
     "end_time": "2024-10-22T16:54:25.065857",
     "exception": false,
     "start_time": "2024-10-22T16:54:22.095045",
     "status": "completed"
    },
    "tags": []
   },
   "outputs": [],
   "source": [
    "# Load the dataset\n",
    "dataset = load_dataset(\"multi_woz_v22\", trust_remote_code=True)"
   ]
  },
  {
   "cell_type": "code",
   "execution_count": 6,
   "id": "6d26b336",
   "metadata": {
    "execution": {
     "iopub.execute_input": "2024-10-22T16:54:25.074620Z",
     "iopub.status.busy": "2024-10-22T16:54:25.074427Z",
     "iopub.status.idle": "2024-10-22T16:54:25.080897Z",
     "shell.execute_reply": "2024-10-22T16:54:25.080470Z"
    },
    "papermill": {
     "duration": 0.011523,
     "end_time": "2024-10-22T16:54:25.082053",
     "exception": false,
     "start_time": "2024-10-22T16:54:25.070530",
     "status": "completed"
    },
    "tags": []
   },
   "outputs": [
    {
     "data": {
      "text/plain": [
       "DatasetDict({\n",
       "    train: Dataset({\n",
       "        features: ['dialogue_id', 'services', 'turns'],\n",
       "        num_rows: 8437\n",
       "    })\n",
       "    validation: Dataset({\n",
       "        features: ['dialogue_id', 'services', 'turns'],\n",
       "        num_rows: 1000\n",
       "    })\n",
       "    test: Dataset({\n",
       "        features: ['dialogue_id', 'services', 'turns'],\n",
       "        num_rows: 1000\n",
       "    })\n",
       "})"
      ]
     },
     "execution_count": 6,
     "metadata": {},
     "output_type": "execute_result"
    }
   ],
   "source": [
    "dataset "
   ]
  },
  {
   "cell_type": "code",
   "execution_count": 7,
   "id": "495af403",
   "metadata": {
    "execution": {
     "iopub.execute_input": "2024-10-22T16:54:25.089507Z",
     "iopub.status.busy": "2024-10-22T16:54:25.089333Z",
     "iopub.status.idle": "2024-10-22T16:54:25.148673Z",
     "shell.execute_reply": "2024-10-22T16:54:25.148248Z"
    },
    "papermill": {
     "duration": 0.064354,
     "end_time": "2024-10-22T16:54:25.149835",
     "exception": false,
     "start_time": "2024-10-22T16:54:25.085481",
     "status": "completed"
    },
    "tags": []
   },
   "outputs": [
    {
     "name": "stdout",
     "output_type": "stream",
     "text": [
      " <|user|> Please find me a train from cambridge to stansted airport \n",
      " <|system|> Sure, I can do that but first I need a little more information. What day would you like to travel as well as departure and arrival times?\n",
      " <|user|> Saturday leaving Cambridge anytime after 20:00 please \n",
      " <|system|> TR3128 will leave at 20:40 and arrive by 21:08. Do you need more information or would you like to book tickets?\n",
      " <|user|> Can you book me 6 tickets please? \n",
      " <|system|> You're all set. Total for tickets is 48.48 GBP payable at the station. Reference number is JD6SA21J .\n",
      " <|user|> I am also looking for The Riverside Brasserie. \n",
      " <|system|> riverside brasserie is a modern european restaurant in the centre. Its address is Doubletree by Hilton Cambridge Granta Place Mill Lane and postcode is cb21rt. Want to book it?\n",
      " <|user|> Yes, I would like to book it and get a reference number. \n",
      " <|system|> Unfortunately, I cannot book it at this time.\n",
      " <|user|> Can you try for Saturday at 13:00? \n",
      " <|system|> How many people will be dining?\n",
      " <|user|> 6 people will be dining \n",
      " <|system|> Your booking was successful. Your reference number is 3VX3AOKS .\n",
      " <|user|> Thanks for everything you have been great! \n",
      " <|system|> Thank you is there anything else today?\n",
      " <|user|> No that is all I needed. Thank you ever so kindly. \n",
      " <|system|> Wonderful. I'm glad I could help. Have a great day. Goodbye.\n"
     ]
    }
   ],
   "source": [
    "example = dataset['train'][6]\n",
    "dialogue = example[\"turns\"]\n",
    "\n",
    "for speaker, utterance in zip(dialogue[\"speaker\"], dialogue[\"utterance\"]):\n",
    "    if speaker == 0:  # User input\n",
    "        print(f\" <|user|> {utterance.strip()} \")\n",
    "    elif speaker == 1:  # System response\n",
    "        print(f\" <|system|> {utterance.strip()}\")  # Append system response to context Add endo of text token\n"
   ]
  },
  {
   "cell_type": "code",
   "execution_count": 8,
   "id": "85e42ab0",
   "metadata": {
    "execution": {
     "iopub.execute_input": "2024-10-22T16:54:25.157415Z",
     "iopub.status.busy": "2024-10-22T16:54:25.157241Z",
     "iopub.status.idle": "2024-10-22T16:54:25.513496Z",
     "shell.execute_reply": "2024-10-22T16:54:25.512999Z"
    },
    "papermill": {
     "duration": 0.361502,
     "end_time": "2024-10-22T16:54:25.514772",
     "exception": false,
     "start_time": "2024-10-22T16:54:25.153270",
     "status": "completed"
    },
    "tags": []
   },
   "outputs": [
    {
     "data": {
      "text/plain": [
       "3"
      ]
     },
     "execution_count": 8,
     "metadata": {},
     "output_type": "execute_result"
    }
   ],
   "source": [
    "tokenizer = GPT2Tokenizer.from_pretrained('gpt2')\n",
    "special_tokens_dict = {'additional_special_tokens': ['<|user|>', '<|system|>'], 'pad_token': '<|pad|>'}\n",
    "tokenizer.add_special_tokens(special_tokens_dict)"
   ]
  },
  {
   "cell_type": "code",
   "execution_count": 9,
   "id": "95508668",
   "metadata": {
    "execution": {
     "iopub.execute_input": "2024-10-22T16:54:25.522849Z",
     "iopub.status.busy": "2024-10-22T16:54:25.522663Z",
     "iopub.status.idle": "2024-10-22T16:54:38.951671Z",
     "shell.execute_reply": "2024-10-22T16:54:38.951121Z"
    },
    "papermill": {
     "duration": 13.434588,
     "end_time": "2024-10-22T16:54:38.953067",
     "exception": false,
     "start_time": "2024-10-22T16:54:25.518479",
     "status": "completed"
    },
    "tags": []
   },
   "outputs": [
    {
     "name": "stdout",
     "output_type": "stream",
     "text": [
      "The number of dialogues in the dataset:  8437\n"
     ]
    }
   ],
   "source": [
    "examples = dataset['train']\n",
    "\n",
    "dialogues = []\n",
    "for dialogue in examples['turns']:\n",
    "    dialogue_text = \"\"\n",
    "    for turn_id, speaker, utterance in zip(dialogue[\"turn_id\"], dialogue[\"speaker\"], dialogue[\"utterance\"]):\n",
    "        if speaker == 0:  # User input\n",
    "            dialogue_text += f\"<|user|> {utterance.strip()} \"\n",
    "        elif speaker == 1:  # System response\n",
    "            dialogue_text += f\"<|system|> {utterance.strip()} \"\n",
    "    dialogues.append(dialogue_text + \"<|endoftext|>\")\n",
    "print(\"The number of dialogues in the dataset: \", len(dialogues))"
   ]
  },
  {
   "cell_type": "code",
   "execution_count": 10,
   "id": "4e94a4a6",
   "metadata": {
    "execution": {
     "iopub.execute_input": "2024-10-22T16:54:38.964523Z",
     "iopub.status.busy": "2024-10-22T16:54:38.964336Z",
     "iopub.status.idle": "2024-10-22T16:54:48.730785Z",
     "shell.execute_reply": "2024-10-22T16:54:48.730263Z"
    },
    "papermill": {
     "duration": 9.772042,
     "end_time": "2024-10-22T16:54:48.732108",
     "exception": false,
     "start_time": "2024-10-22T16:54:38.960066",
     "status": "completed"
    },
    "tags": []
   },
   "outputs": [
    {
     "data": {
      "image/png": "[encoded data removed]",
      "text/plain": [
       "<Figure size 1200x500 with 2 Axes>"
      ]
     },
     "metadata": {},
     "output_type": "display_data"
    }
   ],
   "source": [
    "def plot_token_histogram(dialogues, tokenizer, num_bins=10):\n",
    "\n",
    "    # Tokenizing the dialogues and counting tokens in each dialogue\n",
    "    num_tokens_per_dialogue = [len(tokenizer.tokenize(dialogue)) for dialogue in dialogues]\n",
    "\n",
    "    # Create histogram bins\n",
    "    token_min = min(num_tokens_per_dialogue)\n",
    "    token_max = max(num_tokens_per_dialogue)\n",
    "    bins = np.linspace(token_min, token_max, num_bins + 1)  # Create `num_bins` equally spaced bins\n",
    "\n",
    "    # Count occurrences of each token count\n",
    "    token_counts, _ = np.histogram(num_tokens_per_dialogue, bins=bins)\n",
    "\n",
    "    # Count occurrences of [USER] in each dialogue\n",
    "    num_user_tokens_per_dialogue = [dialogue.count('<|user|>') for dialogue in dialogues]\n",
    "    user_token_counts = Counter(num_user_tokens_per_dialogue)\n",
    "\n",
    "    # Create a figure with two subplots\n",
    "    fig, axs = plt.subplots(1, 2, figsize=(12, 5))\n",
    "\n",
    "    # Plot the histogram of token counts using bins\n",
    "    axs[0].bar(bins[:-1], token_counts, width=np.diff(bins), align='edge')  # Plot with bins\n",
    "    axs[0].set_xlabel('Number of Tokens')\n",
    "    axs[0].set_ylabel('Number of Dialogues')\n",
    "    axs[0].set_title('Histogram of Number of Tokens per Dialogue')\n",
    "\n",
    "    # Plot the histogram of [USER] token counts\n",
    "    axs[1].bar(user_token_counts.keys(), user_token_counts.values())\n",
    "    axs[1].set_xlabel('Number of <|user|> Tokens')\n",
    "    axs[1].set_ylabel('Number of Dialogues')\n",
    "    axs[1].set_title('Histogram of Number of [USER] Tokens per Dialogue')\n",
    "\n",
    "    # Adjust layout to prevent overlapping\n",
    "    plt.tight_layout()\n",
    "\n",
    "    # Show the plot\n",
    "    plt.show()\n",
    "\n",
    "plot_token_histogram(dialogues, tokenizer, num_bins=100)"
   ]
  },
  {
   "cell_type": "markdown",
   "id": "dfc11302",
   "metadata": {
    "papermill": {
     "duration": 0.003726,
     "end_time": "2024-10-22T16:54:48.741261",
     "exception": false,
     "start_time": "2024-10-22T16:54:48.737535",
     "status": "completed"
    },
    "tags": []
   },
   "source": [
    "Prepare the data in a dialogue format with maximum 512 tokens per conversation (this number may be increased to allow longer conversations) and maximum 12 user-bot exchanges per conversation. \n",
    "\n",
    "Terminology:\n",
    "- 1 turn = 1 message (either from the user or the bot)\n",
    "- 1 user-bot exchange = 2-turn conversation (1 message from the user followed by 1 message from the bot)"
   ]
  },
  {
   "cell_type": "code",
   "execution_count": 11,
   "id": "0fc310d9",
   "metadata": {
    "execution": {
     "iopub.execute_input": "2024-10-22T16:54:48.749677Z",
     "iopub.status.busy": "2024-10-22T16:54:48.749472Z",
     "iopub.status.idle": "2024-10-22T16:54:48.756898Z",
     "shell.execute_reply": "2024-10-22T16:54:48.756479Z"
    },
    "papermill": {
     "duration": 0.013163,
     "end_time": "2024-10-22T16:54:48.758058",
     "exception": false,
     "start_time": "2024-10-22T16:54:48.744895",
     "status": "completed"
    },
    "tags": []
   },
   "outputs": [],
   "source": [
    "def preprocess_data_balanced(examples, max_context_exchanges=12):\n",
    "    \"\"\"\n",
    "    This function processes dialogues and generates a balanced mix of single-turn and multi-turn conversations.\n",
    "    Handles up to 12 user-bot exchanges (24 turns) in conversations within 512 tokens, ensuring efficient use of context.\n",
    "\n",
    "    Args:\n",
    "    - examples: The dataset examples containing dialogues.\n",
    "    - max_context_exchanges: Maximum number of user-bot exchanges to include in the sliding window (12 user-bot exchanges).\n",
    "\n",
    "    Returns:\n",
    "    - tokenized_inputs: Tokenized inputs for training the model.\n",
    "    \"\"\"\n",
    "    dialogues = []\n",
    "\n",
    "    for dialogue in examples['turns']:\n",
    "        num_turns = len(dialogue[\"utterance\"])\n",
    "\n",
    "        # Step 1: Single-turn dialogue (focus on concise bot responses, 1 user-bot exchange = 2 turns)\n",
    "        for i in range(0, num_turns - 1, 2):  # Each user-bot exchange is 2 turns\n",
    "            if dialogue[\"speaker\"][i] == 0 and dialogue[\"speaker\"][i + 1] == 1:\n",
    "                user_utterance = dialogue[\"utterance\"][i].strip()\n",
    "                bot_response = dialogue[\"utterance\"][i + 1].strip()\n",
    "                single_turn = f\"<|user|> {user_utterance} <|system|> {bot_response} <|endoftext|>\"\n",
    "                dialogues.append(single_turn)\n",
    "\n",
    "        # Step 2: Multi-turn conversations (sliding window approach with only 1 user-bot exchange overlap)\n",
    "        # Select windows starting with at least 2 user-bot exchanges (4 turns) up to max_context_exchanges\n",
    "        for num_exchanges in range(2, min(max_context_exchanges + 1, num_turns // 2 + 1)):  # Sliding window in terms of user-bot exchanges\n",
    "            for start_turn_index in range(0, num_turns - (num_exchanges * 2) + 1, 2 * (num_exchanges - 1)):  # Ensure valid window sizes\n",
    "                dialogue_text = \"\"\n",
    "                for exchange_index in range(num_exchanges):  # Each iteration captures 1 user-bot exchange (2 turns)\n",
    "                    user_utterance = dialogue[\"utterance\"][start_turn_index + 2 * exchange_index].strip()\n",
    "                    bot_response = dialogue[\"utterance\"][start_turn_index + 2 * exchange_index + 1].strip()\n",
    "                    dialogue_text += f\"<|user|> {user_utterance} <|system|> {bot_response} \"\n",
    "                dialogues.append(dialogue_text + \"<|endoftext|>\")\n",
    "\n",
    "    # Tokenize the combined dialogue list\n",
    "    tokenized_inputs = tokenizer(dialogues, padding=\"max_length\", truncation=True, max_length=512)  # Max length set to 512\n",
    "    \n",
    "    # Add labels as a copy of input_ids\n",
    "    tokenized_inputs[\"labels\"] = tokenized_inputs[\"input_ids\"].copy()\n",
    "\n",
    "    return tokenized_inputs"
   ]
  },
  {
   "cell_type": "code",
   "execution_count": 12,
   "id": "d59220de",
   "metadata": {
    "execution": {
     "iopub.execute_input": "2024-10-22T16:54:48.767962Z",
     "iopub.status.busy": "2024-10-22T16:54:48.767792Z",
     "iopub.status.idle": "2024-10-22T16:57:15.397220Z",
     "shell.execute_reply": "2024-10-22T16:57:15.396749Z"
    },
    "papermill": {
     "duration": 146.635462,
     "end_time": "2024-10-22T16:57:15.398809",
     "exception": false,
     "start_time": "2024-10-22T16:54:48.763347",
     "status": "completed"
    },
    "tags": []
   },
   "outputs": [
    {
     "data": {
      "application/vnd.jupyter.widget-view+json": {
       "model_id": "dfca284537a744c99cc3667ebd36e85c",
       "version_major": 2,
       "version_minor": 0
      },
      "text/plain": [
       "Map:   0%|          | 0/8437 [00:00<?, ? examples/s]"
      ]
     },
     "metadata": {},
     "output_type": "display_data"
    },
    {
     "data": {
      "application/vnd.jupyter.widget-view+json": {
       "model_id": "a41b4c758d294c319377e22a054cbaa3",
       "version_major": 2,
       "version_minor": 0
      },
      "text/plain": [
       "Map:   0%|          | 0/1000 [00:00<?, ? examples/s]"
      ]
     },
     "metadata": {},
     "output_type": "display_data"
    }
   ],
   "source": [
    "train_data = dataset['train'].map(lambda x: preprocess_data_balanced(x), batched=True, remove_columns=['dialogue_id', 'services', 'turns'])\n",
    "val_data = dataset['validation'].map(lambda x: preprocess_data_balanced(x), batched=True, remove_columns=['dialogue_id', 'services', 'turns'])\n",
    "\n",
    "train_data = train_data.shuffle(seed=42)\n",
    "val_data = val_data.shuffle(seed=42)"
   ]
  },
  {
   "cell_type": "code",
   "execution_count": 13,
   "id": "b924e34a",
   "metadata": {
    "execution": {
     "iopub.execute_input": "2024-10-22T16:57:15.456385Z",
     "iopub.status.busy": "2024-10-22T16:57:15.456196Z",
     "iopub.status.idle": "2024-10-22T16:57:15.461219Z",
     "shell.execute_reply": "2024-10-22T16:57:15.460822Z"
    },
    "papermill": {
     "duration": 0.010948,
     "end_time": "2024-10-22T16:57:15.462363",
     "exception": false,
     "start_time": "2024-10-22T16:57:15.451415",
     "status": "completed"
    },
    "tags": []
   },
   "outputs": [
    {
     "data": {
      "text/plain": [
       "Dataset({\n",
       "    features: ['input_ids', 'attention_mask', 'labels'],\n",
       "    num_rows: 167683\n",
       "})"
      ]
     },
     "execution_count": 13,
     "metadata": {},
     "output_type": "execute_result"
    }
   ],
   "source": [
    "train_data"
   ]
  },
  {
   "cell_type": "code",
   "execution_count": 14,
   "id": "4723a659",
   "metadata": {
    "execution": {
     "iopub.execute_input": "2024-10-22T16:57:15.473260Z",
     "iopub.status.busy": "2024-10-22T16:57:15.473083Z",
     "iopub.status.idle": "2024-10-22T16:57:15.477000Z",
     "shell.execute_reply": "2024-10-22T16:57:15.476584Z"
    },
    "papermill": {
     "duration": 0.011572,
     "end_time": "2024-10-22T16:57:15.478177",
     "exception": false,
     "start_time": "2024-10-22T16:57:15.466605",
     "status": "completed"
    },
    "tags": []
   },
   "outputs": [
    {
     "name": "stdout",
     "output_type": "stream",
     "text": [
      "There are 167683 conversations in total.\n"
     ]
    }
   ],
   "source": [
    "print(\"There are\", train_data.num_rows, \"conversations in total.\")"
   ]
  },
  {
   "cell_type": "markdown",
   "id": "1cf05aa5",
   "metadata": {
    "papermill": {
     "duration": 0.004031,
     "end_time": "2024-10-22T16:57:15.486669",
     "exception": false,
     "start_time": "2024-10-22T16:57:15.482638",
     "status": "completed"
    },
    "tags": []
   },
   "source": [
    "Detokenize a few examples from the tokenized train_data:"
   ]
  },
  {
   "cell_type": "code",
   "execution_count": 15,
   "id": "2fd0c9f6",
   "metadata": {
    "execution": {
     "iopub.execute_input": "2024-10-22T16:57:15.495835Z",
     "iopub.status.busy": "2024-10-22T16:57:15.495663Z",
     "iopub.status.idle": "2024-10-22T16:57:15.528129Z",
     "shell.execute_reply": "2024-10-22T16:57:15.527720Z"
    },
    "papermill": {
     "duration": 0.038502,
     "end_time": "2024-10-22T16:57:15.529268",
     "exception": false,
     "start_time": "2024-10-22T16:57:15.490766",
     "status": "completed"
    },
    "tags": []
   },
   "outputs": [
    {
     "name": "stdout",
     "output_type": "stream",
     "text": [
      "Example 1: <|user|>  I will also need to book a taxi.  <|system|>  I can do that! I just need your departure and arrival sites and the time you need the taxi.  <|user|>  I'd like to leave the museum in time to get to the restaurant on time.  <|system|>  Okay, you have a car that will come get you. It will be a blue BMW.  <|user|>  What is their contact number?  <|system|>  The contact number is 07601724141. Is there anything else I can help with today? <|endoftext|>\n",
      "Example 2: <|user|>  What about architecture in the centre?  <|system|>  I recommendvLittle saint mary's church don't let the name fool you, they are large and have a lot to see, would you like more information?  <|user|>  Can I get the address, please?  <|system|>  The address is Little Saint Mary's Lane. Is there anything else you need to know?  <|user|>  No thank you that will be all  <|system|>  It was nice talking to you. If you need assistance in the future, please don't hesitate to text us again. Goodbye! <|endoftext|>\n"
     ]
    }
   ],
   "source": [
    "for i in range(2):  # Adjust the range if you want more or fewer examples\n",
    "    input_ids = train_data[i]['input_ids']\n",
    "    \n",
    "    # Filter out the padding tokens manually\n",
    "    input_ids_no_pad = [token_id for token_id in input_ids if token_id != tokenizer.pad_token_id]\n",
    "    \n",
    "    # Detokenize the sequence without the padding tokens\n",
    "    detokenized_sentence = tokenizer.decode(input_ids_no_pad, skip_special_tokens=False)\n",
    "    \n",
    "    print(f\"Example {i + 1}: {detokenized_sentence}\")"
   ]
  },
  {
   "cell_type": "markdown",
   "id": "b0e10fb9",
   "metadata": {
    "papermill": {
     "duration": 0.044908,
     "end_time": "2024-10-22T16:57:15.578527",
     "exception": false,
     "start_time": "2024-10-22T16:57:15.533619",
     "status": "completed"
    },
    "tags": []
   },
   "source": [
    "# The GPT model"
   ]
  },
  {
   "cell_type": "code",
   "execution_count": 16,
   "id": "988b12df",
   "metadata": {
    "execution": {
     "iopub.execute_input": "2024-10-22T16:57:15.587896Z",
     "iopub.status.busy": "2024-10-22T16:57:15.587719Z",
     "iopub.status.idle": "2024-10-22T16:57:21.829395Z",
     "shell.execute_reply": "2024-10-22T16:57:21.828957Z"
    },
    "papermill": {
     "duration": 6.247752,
     "end_time": "2024-10-22T16:57:21.830649",
     "exception": false,
     "start_time": "2024-10-22T16:57:15.582897",
     "status": "completed"
    },
    "tags": []
   },
   "outputs": [
    {
     "data": {
      "text/plain": [
       "Embedding(50260, 768)"
      ]
     },
     "execution_count": 16,
     "metadata": {},
     "output_type": "execute_result"
    }
   ],
   "source": [
    "model = GPT2LMHeadModel.from_pretrained(\"gpt2\")\n",
    "model.resize_token_embeddings(len(tokenizer))"
   ]
  },
  {
   "cell_type": "code",
   "execution_count": 17,
   "id": "5fb98e8f",
   "metadata": {
    "execution": {
     "iopub.execute_input": "2024-10-22T16:57:21.843296Z",
     "iopub.status.busy": "2024-10-22T16:57:21.843120Z",
     "iopub.status.idle": "2024-10-22T16:57:24.346613Z",
     "shell.execute_reply": "2024-10-22T16:57:24.346176Z"
    },
    "papermill": {
     "duration": 2.509832,
     "end_time": "2024-10-22T16:57:24.347832",
     "exception": false,
     "start_time": "2024-10-22T16:57:21.838000",
     "status": "completed"
    },
    "tags": []
   },
   "outputs": [
    {
     "data": {
      "text/plain": [
       "====================================================================================================\n",
       "Layer (type:depth-idx)                             Output Shape              Param #\n",
       "====================================================================================================\n",
       "GPT2LMHeadModel                                    [1, 12, 512, 64]          --\n",
       "├─GPT2Model: 1-1                                   [1, 12, 512, 64]          --\n",
       "│    └─Embedding: 2-1                              [1, 512, 768]             38,599,680\n",
       "│    └─Embedding: 2-2                              [1, 512, 768]             786,432\n",
       "│    └─Dropout: 2-3                                [1, 512, 768]             --\n",
       "│    └─ModuleList: 2-4                             --                        --\n",
       "│    │    └─GPT2Block: 3-1                         [1, 512, 768]             7,087,872\n",
       "│    │    └─GPT2Block: 3-2                         [1, 512, 768]             7,087,872\n",
       "│    │    └─GPT2Block: 3-3                         [1, 512, 768]             7,087,872\n",
       "│    │    └─GPT2Block: 3-4                         [1, 512, 768]             7,087,872\n",
       "│    │    └─GPT2Block: 3-5                         [1, 512, 768]             7,087,872\n",
       "│    │    └─GPT2Block: 3-6                         [1, 512, 768]             7,087,872\n",
       "│    │    └─GPT2Block: 3-7                         [1, 512, 768]             7,087,872\n",
       "│    │    └─GPT2Block: 3-8                         [1, 512, 768]             7,087,872\n",
       "│    │    └─GPT2Block: 3-9                         [1, 512, 768]             7,087,872\n",
       "│    │    └─GPT2Block: 3-10                        [1, 512, 768]             7,087,872\n",
       "│    │    └─GPT2Block: 3-11                        [1, 512, 768]             7,087,872\n",
       "│    │    └─GPT2Block: 3-12                        [1, 512, 768]             7,087,872\n",
       "│    └─LayerNorm: 2-5                              [1, 512, 768]             1,536\n",
       "├─Linear: 1-2                                      [1, 512, 50260]           38,599,680\n",
       "====================================================================================================\n",
       "Total params: 163,041,792\n",
       "Trainable params: 163,041,792\n",
       "Non-trainable params: 0\n",
       "Total mult-adds (G): 163.34\n",
       "====================================================================================================\n",
       "Input size (MB): 0.00\n",
       "Forward/backward pass size (MB): 630.54\n",
       "Params size (MB): 652.17\n",
       "Estimated Total Size (MB): 1282.71\n",
       "===================================================================================================="
      ]
     },
     "execution_count": 17,
     "metadata": {},
     "output_type": "execute_result"
    }
   ],
   "source": [
    "summary(model, input_data=torch.zeros((1, 512), dtype=torch.long), device='cpu')"
   ]
  },
  {
   "cell_type": "code",
   "execution_count": 18,
   "id": "e7fa8c2c",
   "metadata": {
    "execution": {
     "iopub.execute_input": "2024-10-22T16:57:24.361634Z",
     "iopub.status.busy": "2024-10-22T16:57:24.361448Z",
     "iopub.status.idle": "2024-10-22T16:57:24.543715Z",
     "shell.execute_reply": "2024-10-22T16:57:24.543256Z"
    },
    "papermill": {
     "duration": 0.191961,
     "end_time": "2024-10-22T16:57:24.544937",
     "exception": false,
     "start_time": "2024-10-22T16:57:24.352976",
     "status": "completed"
    },
    "tags": []
   },
   "outputs": [
    {
     "name": "stderr",
     "output_type": "stream",
     "text": [
      "/work/FAC/FGSE/IDYST/gjouvet/default/klleshi/.conda/envs/NLP/lib/python3.10/site-packages/transformers/training_args.py:1474: FutureWarning: `evaluation_strategy` is deprecated and will be removed in version 4.46 of 🤗 Transformers. Use `eval_strategy` instead\n",
      "  warnings.warn(\n"
     ]
    }
   ],
   "source": [
    "training_args = TrainingArguments(\n",
    "    output_dir=\"ensemble_results/MyGPT2chat\",  # Directory to save the model checkpoints and other outputs.\n",
    "    max_steps=1000,  # Total number of training steps. The model will stop training once this number is reached.\n",
    "    optim=\"adamw_torch\",  # Optimizer to use during training. 'adamw_torch' refers to AdamW implemented in PyTorch.\n",
    "    learning_rate=5e-5,  # Learning rate used for the optimizer, which controls how much to adjust the weights with respect to the gradient.\n",
    "    weight_decay=0.01,  # Weight decay (L2 regularization) to prevent overfitting by penalizing large weights.\n",
    "    per_device_train_batch_size=16,  # Number of samples per batch for training on each device (e.g., GPU).\n",
    "    per_device_eval_batch_size=16,  # Number of samples per batch for evaluation on each device.\n",
    "    gradient_accumulation_steps=4,  # Number of steps to accumulate gradients before updating model weights, allowing larger effective batch sizes.\n",
    "    gradient_checkpointing=True,  # Save memory by checkpointing gradients, which trades compute time for memory.\n",
    "    warmup_steps=100,  # Number of warmup steps during which the learning rate linearly increases from 0 to the specified value.\n",
    "    lr_scheduler_type=\"linear\",  # Learning rate schedule, with 'linear' meaning it decreases linearly after the warmup phase.\n",
    "    evaluation_strategy=\"steps\",  # Perform evaluation at regular steps, as opposed to other strategies like 'epoch'.\n",
    "    eval_steps=50,  # Number of training steps between evaluations (to check performance on the validation set).\n",
    "    logging_steps=50,  # Number of steps between logging events, used to monitor training progress.\n",
    "    log_level=\"info\",  # The verbosity of logging, 'passive' logging will only occur if you manually enable it.\n",
    "    save_steps=100,  # Number of steps between saving model checkpoints.\n",
    "    save_total_limit=2,  # Maximum number of model checkpoints to keep. Older checkpoints will be deleted when this limit is exceeded.\n",
    "    disable_tqdm=False,  # Whether or not to disable the progress bar ('tqdm'). False means the progress bar will be displayed.\n",
    "    report_to=\"none\",  # This ensures no reporting to any integrations\n",
    ")"
   ]
  },
  {
   "cell_type": "code",
   "execution_count": 19,
   "id": "cbc108f7",
   "metadata": {
    "execution": {
     "iopub.execute_input": "2024-10-22T16:57:24.555723Z",
     "iopub.status.busy": "2024-10-22T16:57:24.555518Z",
     "iopub.status.idle": "2024-10-22T16:57:24.860114Z",
     "shell.execute_reply": "2024-10-22T16:57:24.859699Z"
    },
    "papermill": {
     "duration": 0.311363,
     "end_time": "2024-10-22T16:57:24.861356",
     "exception": false,
     "start_time": "2024-10-22T16:57:24.549993",
     "status": "completed"
    },
    "tags": []
   },
   "outputs": [
    {
     "name": "stderr",
     "output_type": "stream",
     "text": [
      "Detected kernel version 4.18.0, which is below the recommended minimum of 5.5.0; this can cause the process to hang. It is recommended to upgrade the kernel to the minimum version or higher.\n"
     ]
    },
    {
     "name": "stderr",
     "output_type": "stream",
     "text": [
      "max_steps is given, it will override any value given in num_train_epochs\n"
     ]
    }
   ],
   "source": [
    "trainer = Trainer(\n",
    "    model=model,\n",
    "    args=training_args,\n",
    "    tokenizer=tokenizer,\n",
    "    train_dataset=train_data,\n",
    "    eval_dataset=val_data)"
   ]
  },
  {
   "cell_type": "code",
   "execution_count": 20,
   "id": "2ff56bb9",
   "metadata": {
    "execution": {
     "iopub.execute_input": "2024-10-22T16:57:24.872349Z",
     "iopub.status.busy": "2024-10-22T16:57:24.872169Z",
     "iopub.status.idle": "2024-10-22T16:57:24.875365Z",
     "shell.execute_reply": "2024-10-22T16:57:24.874977Z"
    },
    "papermill": {
     "duration": 0.009782,
     "end_time": "2024-10-22T16:57:24.876505",
     "exception": false,
     "start_time": "2024-10-22T16:57:24.866723",
     "status": "completed"
    },
    "tags": []
   },
   "outputs": [],
   "source": [
    "train_now = \"TRUE\""
   ]
  },
  {
   "cell_type": "code",
   "execution_count": 21,
   "id": "af175a45",
   "metadata": {
    "execution": {
     "iopub.execute_input": "2024-10-22T16:57:24.886994Z",
     "iopub.status.busy": "2024-10-22T16:57:24.886823Z",
     "iopub.status.idle": "2024-10-22T19:17:42.187194Z",
     "shell.execute_reply": "2024-10-22T19:17:42.186684Z"
    },
    "papermill": {
     "duration": 8417.307521,
     "end_time": "2024-10-22T19:17:42.188875",
     "exception": false,
     "start_time": "2024-10-22T16:57:24.881354",
     "status": "completed"
    },
    "tags": []
   },
   "outputs": [
    {
     "name": "stderr",
     "output_type": "stream",
     "text": [
      "***** Running training *****\n"
     ]
    },
    {
     "name": "stderr",
     "output_type": "stream",
     "text": [
      "  Num examples = 167,683\n"
     ]
    },
    {
     "name": "stderr",
     "output_type": "stream",
     "text": [
      "  Num Epochs = 1\n"
     ]
    },
    {
     "name": "stderr",
     "output_type": "stream",
     "text": [
      "  Instantaneous batch size per device = 16\n"
     ]
    },
    {
     "name": "stderr",
     "output_type": "stream",
     "text": [
      "  Total train batch size (w. parallel, distributed & accumulation) = 64\n"
     ]
    },
    {
     "name": "stderr",
     "output_type": "stream",
     "text": [
      "  Gradient Accumulation steps = 4\n"
     ]
    },
    {
     "name": "stderr",
     "output_type": "stream",
     "text": [
      "  Total optimization steps = 1,000\n"
     ]
    },
    {
     "name": "stderr",
     "output_type": "stream",
     "text": [
      "  Number of trainable parameters = 124,442,112\n"
     ]
    },
    {
     "name": "stderr",
     "output_type": "stream",
     "text": [
      "`use_cache=True` is incompatible with gradient checkpointing. Setting `use_cache=False`...\n"
     ]
    },
    {
     "name": "stderr",
     "output_type": "stream",
     "text": [
      "/work/FAC/FGSE/IDYST/gjouvet/default/klleshi/.conda/envs/NLP/lib/python3.10/site-packages/torch/utils/checkpoint.py:464: UserWarning: torch.utils.checkpoint: the use_reentrant parameter should be passed explicitly. In version 2.4 we will raise an exception if use_reentrant is not passed. use_reentrant=False is recommended, but if you need to preserve the current default behavior, you can pass use_reentrant=True. Refer to docs for more details on the differences between the two variants.\n",
      "  warnings.warn(\n"
     ]
    },
    {
     "data": {
      "text/html": [
       "\n",
       "    <div>\n",
       "      \n",
       "      <progress value='1000' max='1000' style='width:300px; height:20px; vertical-align: middle;'></progress>\n",
       "      [1000/1000 2:20:10, Epoch 0/1]\n",
       "    </div>\n",
       "    <table border=\"1\" class=\"dataframe\">\n",
       "  <thead>\n",
       " <tr style=\"text-align: left;\">\n",
       "      <th>Step</th>\n",
       "      <th>Training Loss</th>\n",
       "      <th>Validation Loss</th>\n",
       "    </tr>\n",
       "  </thead>\n",
       "  <tbody>\n",
       "    <tr>\n",
       "      <td>50</td>\n",
       "      <td>12.042500</td>\n",
       "      <td>1.183190</td>\n",
       "    </tr>\n",
       "    <tr>\n",
       "      <td>100</td>\n",
       "      <td>0.717000</td>\n",
       "      <td>0.538305</td>\n",
       "    </tr>\n",
       "    <tr>\n",
       "      <td>150</td>\n",
       "      <td>0.501400</td>\n",
       "      <td>0.471297</td>\n",
       "    </tr>\n",
       "    <tr>\n",
       "      <td>200</td>\n",
       "      <td>0.468100</td>\n",
       "      <td>0.445502</td>\n",
       "    </tr>\n",
       "    <tr>\n",
       "      <td>250</td>\n",
       "      <td>0.454500</td>\n",
       "      <td>0.429893</td>\n",
       "    </tr>\n",
       "    <tr>\n",
       "      <td>300</td>\n",
       "      <td>0.422700</td>\n",
       "      <td>0.418143</td>\n",
       "    </tr>\n",
       "    <tr>\n",
       "      <td>350</td>\n",
       "      <td>0.419700</td>\n",
       "      <td>0.409021</td>\n",
       "    </tr>\n",
       "    <tr>\n",
       "      <td>400</td>\n",
       "      <td>0.412000</td>\n",
       "      <td>0.401233</td>\n",
       "    </tr>\n",
       "    <tr>\n",
       "      <td>450</td>\n",
       "      <td>0.409100</td>\n",
       "      <td>0.394910</td>\n",
       "    </tr>\n",
       "    <tr>\n",
       "      <td>500</td>\n",
       "      <td>0.399100</td>\n",
       "      <td>0.390572</td>\n",
       "    </tr>\n",
       "    <tr>\n",
       "      <td>550</td>\n",
       "      <td>0.382200</td>\n",
       "      <td>0.387100</td>\n",
       "    </tr>\n",
       "    <tr>\n",
       "      <td>600</td>\n",
       "      <td>0.396200</td>\n",
       "      <td>0.384640</td>\n",
       "    </tr>\n",
       "    <tr>\n",
       "      <td>650</td>\n",
       "      <td>0.381800</td>\n",
       "      <td>0.382059</td>\n",
       "    </tr>\n",
       "    <tr>\n",
       "      <td>700</td>\n",
       "      <td>0.368600</td>\n",
       "      <td>0.380045</td>\n",
       "    </tr>\n",
       "    <tr>\n",
       "      <td>750</td>\n",
       "      <td>0.380000</td>\n",
       "      <td>0.378643</td>\n",
       "    </tr>\n",
       "    <tr>\n",
       "      <td>800</td>\n",
       "      <td>0.376400</td>\n",
       "      <td>0.377257</td>\n",
       "    </tr>\n",
       "    <tr>\n",
       "      <td>850</td>\n",
       "      <td>0.365300</td>\n",
       "      <td>0.376246</td>\n",
       "    </tr>\n",
       "    <tr>\n",
       "      <td>900</td>\n",
       "      <td>0.369100</td>\n",
       "      <td>0.375510</td>\n",
       "    </tr>\n",
       "    <tr>\n",
       "      <td>950</td>\n",
       "      <td>0.378900</td>\n",
       "      <td>0.375021</td>\n",
       "    </tr>\n",
       "    <tr>\n",
       "      <td>1000</td>\n",
       "      <td>0.378700</td>\n",
       "      <td>0.374838</td>\n",
       "    </tr>\n",
       "  </tbody>\n",
       "</table><p>"
      ],
      "text/plain": [
       "<IPython.core.display.HTML object>"
      ]
     },
     "metadata": {},
     "output_type": "display_data"
    },
    {
     "name": "stderr",
     "output_type": "stream",
     "text": [
      "***** Running Evaluation *****\n"
     ]
    },
    {
     "name": "stderr",
     "output_type": "stream",
     "text": [
      "  Num examples = 22256\n"
     ]
    },
    {
     "name": "stderr",
     "output_type": "stream",
     "text": [
      "  Batch size = 16\n"
     ]
    },
    {
     "name": "stderr",
     "output_type": "stream",
     "text": [
      "***** Running Evaluation *****\n"
     ]
    },
    {
     "name": "stderr",
     "output_type": "stream",
     "text": [
      "  Num examples = 22256\n"
     ]
    },
    {
     "name": "stderr",
     "output_type": "stream",
     "text": [
      "  Batch size = 16\n"
     ]
    },
    {
     "name": "stderr",
     "output_type": "stream",
     "text": [
      "Saving model checkpoint to ensemble_results/MyGPT2chat/checkpoint-100\n"
     ]
    },
    {
     "name": "stderr",
     "output_type": "stream",
     "text": [
      "Configuration saved in ensemble_results/MyGPT2chat/checkpoint-100/config.json\n"
     ]
    },
    {
     "name": "stderr",
     "output_type": "stream",
     "text": [
      "Configuration saved in ensemble_results/MyGPT2chat/checkpoint-100/generation_config.json\n"
     ]
    },
    {
     "name": "stderr",
     "output_type": "stream",
     "text": [
      "tokenizer config file saved in ensemble_results/MyGPT2chat/checkpoint-100/tokenizer_config.json\n"
     ]
    },
    {
     "name": "stderr",
     "output_type": "stream",
     "text": [
      "Special tokens file saved in ensemble_results/MyGPT2chat/checkpoint-100/special_tokens_map.json\n"
     ]
    },
    {
     "name": "stderr",
     "output_type": "stream",
     "text": [
      "added tokens file saved in ensemble_results/MyGPT2chat/checkpoint-100/added_tokens.json\n"
     ]
    },
    {
     "name": "stderr",
     "output_type": "stream",
     "text": [
      "Deleting older checkpoint [ensemble_results/MyGPT2chat/checkpoint-100] due to args.save_total_limit\n"
     ]
    },
    {
     "name": "stderr",
     "output_type": "stream",
     "text": [
      "/work/FAC/FGSE/IDYST/gjouvet/default/klleshi/.conda/envs/NLP/lib/python3.10/site-packages/torch/utils/checkpoint.py:464: UserWarning: torch.utils.checkpoint: the use_reentrant parameter should be passed explicitly. In version 2.4 we will raise an exception if use_reentrant is not passed. use_reentrant=False is recommended, but if you need to preserve the current default behavior, you can pass use_reentrant=True. Refer to docs for more details on the differences between the two variants.\n",
      "  warnings.warn(\n"
     ]
    },
    {
     "name": "stderr",
     "output_type": "stream",
     "text": [
      "***** Running Evaluation *****\n"
     ]
    },
    {
     "name": "stderr",
     "output_type": "stream",
     "text": [
      "  Num examples = 22256\n"
     ]
    },
    {
     "name": "stderr",
     "output_type": "stream",
     "text": [
      "  Batch size = 16\n"
     ]
    },
    {
     "name": "stderr",
     "output_type": "stream",
     "text": [
      "***** Running Evaluation *****\n"
     ]
    },
    {
     "name": "stderr",
     "output_type": "stream",
     "text": [
      "  Num examples = 22256\n"
     ]
    },
    {
     "name": "stderr",
     "output_type": "stream",
     "text": [
      "  Batch size = 16\n"
     ]
    },
    {
     "name": "stderr",
     "output_type": "stream",
     "text": [
      "Saving model checkpoint to ensemble_results/MyGPT2chat/checkpoint-200\n"
     ]
    },
    {
     "name": "stderr",
     "output_type": "stream",
     "text": [
      "Configuration saved in ensemble_results/MyGPT2chat/checkpoint-200/config.json\n"
     ]
    },
    {
     "name": "stderr",
     "output_type": "stream",
     "text": [
      "Configuration saved in ensemble_results/MyGPT2chat/checkpoint-200/generation_config.json\n"
     ]
    },
    {
     "name": "stderr",
     "output_type": "stream",
     "text": [
      "tokenizer config file saved in ensemble_results/MyGPT2chat/checkpoint-200/tokenizer_config.json\n"
     ]
    },
    {
     "name": "stderr",
     "output_type": "stream",
     "text": [
      "Special tokens file saved in ensemble_results/MyGPT2chat/checkpoint-200/special_tokens_map.json\n"
     ]
    },
    {
     "name": "stderr",
     "output_type": "stream",
     "text": [
      "added tokens file saved in ensemble_results/MyGPT2chat/checkpoint-200/added_tokens.json\n"
     ]
    },
    {
     "name": "stderr",
     "output_type": "stream",
     "text": [
      "Deleting older checkpoint [ensemble_results/MyGPT2chat/checkpoint-200] due to args.save_total_limit\n"
     ]
    },
    {
     "name": "stderr",
     "output_type": "stream",
     "text": [
      "/work/FAC/FGSE/IDYST/gjouvet/default/klleshi/.conda/envs/NLP/lib/python3.10/site-packages/torch/utils/checkpoint.py:464: UserWarning: torch.utils.checkpoint: the use_reentrant parameter should be passed explicitly. In version 2.4 we will raise an exception if use_reentrant is not passed. use_reentrant=False is recommended, but if you need to preserve the current default behavior, you can pass use_reentrant=True. Refer to docs for more details on the differences between the two variants.\n",
      "  warnings.warn(\n"
     ]
    },
    {
     "name": "stderr",
     "output_type": "stream",
     "text": [
      "***** Running Evaluation *****\n"
     ]
    },
    {
     "name": "stderr",
     "output_type": "stream",
     "text": [
      "  Num examples = 22256\n"
     ]
    },
    {
     "name": "stderr",
     "output_type": "stream",
     "text": [
      "  Batch size = 16\n"
     ]
    },
    {
     "name": "stderr",
     "output_type": "stream",
     "text": [
      "***** Running Evaluation *****\n"
     ]
    },
    {
     "name": "stderr",
     "output_type": "stream",
     "text": [
      "  Num examples = 22256\n"
     ]
    },
    {
     "name": "stderr",
     "output_type": "stream",
     "text": [
      "  Batch size = 16\n"
     ]
    },
    {
     "name": "stderr",
     "output_type": "stream",
     "text": [
      "Saving model checkpoint to ensemble_results/MyGPT2chat/checkpoint-300\n"
     ]
    },
    {
     "name": "stderr",
     "output_type": "stream",
     "text": [
      "Configuration saved in ensemble_results/MyGPT2chat/checkpoint-300/config.json\n"
     ]
    },
    {
     "name": "stderr",
     "output_type": "stream",
     "text": [
      "Configuration saved in ensemble_results/MyGPT2chat/checkpoint-300/generation_config.json\n"
     ]
    },
    {
     "name": "stderr",
     "output_type": "stream",
     "text": [
      "tokenizer config file saved in ensemble_results/MyGPT2chat/checkpoint-300/tokenizer_config.json\n"
     ]
    },
    {
     "name": "stderr",
     "output_type": "stream",
     "text": [
      "Special tokens file saved in ensemble_results/MyGPT2chat/checkpoint-300/special_tokens_map.json\n"
     ]
    },
    {
     "name": "stderr",
     "output_type": "stream",
     "text": [
      "added tokens file saved in ensemble_results/MyGPT2chat/checkpoint-300/added_tokens.json\n"
     ]
    },
    {
     "name": "stderr",
     "output_type": "stream",
     "text": [
      "Deleting older checkpoint [ensemble_results/MyGPT2chat/checkpoint-300] due to args.save_total_limit\n"
     ]
    },
    {
     "name": "stderr",
     "output_type": "stream",
     "text": [
      "/work/FAC/FGSE/IDYST/gjouvet/default/klleshi/.conda/envs/NLP/lib/python3.10/site-packages/torch/utils/checkpoint.py:464: UserWarning: torch.utils.checkpoint: the use_reentrant parameter should be passed explicitly. In version 2.4 we will raise an exception if use_reentrant is not passed. use_reentrant=False is recommended, but if you need to preserve the current default behavior, you can pass use_reentrant=True. Refer to docs for more details on the differences between the two variants.\n",
      "  warnings.warn(\n"
     ]
    },
    {
     "name": "stderr",
     "output_type": "stream",
     "text": [
      "***** Running Evaluation *****\n"
     ]
    },
    {
     "name": "stderr",
     "output_type": "stream",
     "text": [
      "  Num examples = 22256\n"
     ]
    },
    {
     "name": "stderr",
     "output_type": "stream",
     "text": [
      "  Batch size = 16\n"
     ]
    },
    {
     "name": "stderr",
     "output_type": "stream",
     "text": [
      "***** Running Evaluation *****\n"
     ]
    },
    {
     "name": "stderr",
     "output_type": "stream",
     "text": [
      "  Num examples = 22256\n"
     ]
    },
    {
     "name": "stderr",
     "output_type": "stream",
     "text": [
      "  Batch size = 16\n"
     ]
    },
    {
     "name": "stderr",
     "output_type": "stream",
     "text": [
      "Saving model checkpoint to ensemble_results/MyGPT2chat/checkpoint-400\n"
     ]
    },
    {
     "name": "stderr",
     "output_type": "stream",
     "text": [
      "Configuration saved in ensemble_results/MyGPT2chat/checkpoint-400/config.json\n"
     ]
    },
    {
     "name": "stderr",
     "output_type": "stream",
     "text": [
      "Configuration saved in ensemble_results/MyGPT2chat/checkpoint-400/generation_config.json\n"
     ]
    },
    {
     "name": "stderr",
     "output_type": "stream",
     "text": [
      "tokenizer config file saved in ensemble_results/MyGPT2chat/checkpoint-400/tokenizer_config.json\n"
     ]
    },
    {
     "name": "stderr",
     "output_type": "stream",
     "text": [
      "Special tokens file saved in ensemble_results/MyGPT2chat/checkpoint-400/special_tokens_map.json\n"
     ]
    },
    {
     "name": "stderr",
     "output_type": "stream",
     "text": [
      "added tokens file saved in ensemble_results/MyGPT2chat/checkpoint-400/added_tokens.json\n"
     ]
    },
    {
     "name": "stderr",
     "output_type": "stream",
     "text": [
      "Deleting older checkpoint [ensemble_results/MyGPT2chat/checkpoint-400] due to args.save_total_limit\n"
     ]
    },
    {
     "name": "stderr",
     "output_type": "stream",
     "text": [
      "/work/FAC/FGSE/IDYST/gjouvet/default/klleshi/.conda/envs/NLP/lib/python3.10/site-packages/torch/utils/checkpoint.py:464: UserWarning: torch.utils.checkpoint: the use_reentrant parameter should be passed explicitly. In version 2.4 we will raise an exception if use_reentrant is not passed. use_reentrant=False is recommended, but if you need to preserve the current default behavior, you can pass use_reentrant=True. Refer to docs for more details on the differences between the two variants.\n",
      "  warnings.warn(\n"
     ]
    },
    {
     "name": "stderr",
     "output_type": "stream",
     "text": [
      "***** Running Evaluation *****\n"
     ]
    },
    {
     "name": "stderr",
     "output_type": "stream",
     "text": [
      "  Num examples = 22256\n"
     ]
    },
    {
     "name": "stderr",
     "output_type": "stream",
     "text": [
      "  Batch size = 16\n"
     ]
    },
    {
     "name": "stderr",
     "output_type": "stream",
     "text": [
      "***** Running Evaluation *****\n"
     ]
    },
    {
     "name": "stderr",
     "output_type": "stream",
     "text": [
      "  Num examples = 22256\n"
     ]
    },
    {
     "name": "stderr",
     "output_type": "stream",
     "text": [
      "  Batch size = 16\n"
     ]
    },
    {
     "name": "stderr",
     "output_type": "stream",
     "text": [
      "Saving model checkpoint to ensemble_results/MyGPT2chat/checkpoint-500\n"
     ]
    },
    {
     "name": "stderr",
     "output_type": "stream",
     "text": [
      "Configuration saved in ensemble_results/MyGPT2chat/checkpoint-500/config.json\n"
     ]
    },
    {
     "name": "stderr",
     "output_type": "stream",
     "text": [
      "Configuration saved in ensemble_results/MyGPT2chat/checkpoint-500/generation_config.json\n"
     ]
    },
    {
     "name": "stderr",
     "output_type": "stream",
     "text": [
      "tokenizer config file saved in ensemble_results/MyGPT2chat/checkpoint-500/tokenizer_config.json\n"
     ]
    },
    {
     "name": "stderr",
     "output_type": "stream",
     "text": [
      "Special tokens file saved in ensemble_results/MyGPT2chat/checkpoint-500/special_tokens_map.json\n"
     ]
    },
    {
     "name": "stderr",
     "output_type": "stream",
     "text": [
      "added tokens file saved in ensemble_results/MyGPT2chat/checkpoint-500/added_tokens.json\n"
     ]
    },
    {
     "name": "stderr",
     "output_type": "stream",
     "text": [
      "Deleting older checkpoint [ensemble_results/MyGPT2chat/checkpoint-500] due to args.save_total_limit\n"
     ]
    },
    {
     "name": "stderr",
     "output_type": "stream",
     "text": [
      "/work/FAC/FGSE/IDYST/gjouvet/default/klleshi/.conda/envs/NLP/lib/python3.10/site-packages/torch/utils/checkpoint.py:464: UserWarning: torch.utils.checkpoint: the use_reentrant parameter should be passed explicitly. In version 2.4 we will raise an exception if use_reentrant is not passed. use_reentrant=False is recommended, but if you need to preserve the current default behavior, you can pass use_reentrant=True. Refer to docs for more details on the differences between the two variants.\n",
      "  warnings.warn(\n"
     ]
    },
    {
     "name": "stderr",
     "output_type": "stream",
     "text": [
      "***** Running Evaluation *****\n"
     ]
    },
    {
     "name": "stderr",
     "output_type": "stream",
     "text": [
      "  Num examples = 22256\n"
     ]
    },
    {
     "name": "stderr",
     "output_type": "stream",
     "text": [
      "  Batch size = 16\n"
     ]
    },
    {
     "name": "stderr",
     "output_type": "stream",
     "text": [
      "***** Running Evaluation *****\n"
     ]
    },
    {
     "name": "stderr",
     "output_type": "stream",
     "text": [
      "  Num examples = 22256\n"
     ]
    },
    {
     "name": "stderr",
     "output_type": "stream",
     "text": [
      "  Batch size = 16\n"
     ]
    },
    {
     "name": "stderr",
     "output_type": "stream",
     "text": [
      "Saving model checkpoint to ensemble_results/MyGPT2chat/checkpoint-600\n"
     ]
    },
    {
     "name": "stderr",
     "output_type": "stream",
     "text": [
      "Configuration saved in ensemble_results/MyGPT2chat/checkpoint-600/config.json\n"
     ]
    },
    {
     "name": "stderr",
     "output_type": "stream",
     "text": [
      "Configuration saved in ensemble_results/MyGPT2chat/checkpoint-600/generation_config.json\n"
     ]
    },
    {
     "name": "stderr",
     "output_type": "stream",
     "text": [
      "tokenizer config file saved in ensemble_results/MyGPT2chat/checkpoint-600/tokenizer_config.json\n"
     ]
    },
    {
     "name": "stderr",
     "output_type": "stream",
     "text": [
      "Special tokens file saved in ensemble_results/MyGPT2chat/checkpoint-600/special_tokens_map.json\n"
     ]
    },
    {
     "name": "stderr",
     "output_type": "stream",
     "text": [
      "added tokens file saved in ensemble_results/MyGPT2chat/checkpoint-600/added_tokens.json\n"
     ]
    },
    {
     "name": "stderr",
     "output_type": "stream",
     "text": [
      "Deleting older checkpoint [ensemble_results/MyGPT2chat/checkpoint-600] due to args.save_total_limit\n"
     ]
    },
    {
     "name": "stderr",
     "output_type": "stream",
     "text": [
      "/work/FAC/FGSE/IDYST/gjouvet/default/klleshi/.conda/envs/NLP/lib/python3.10/site-packages/torch/utils/checkpoint.py:464: UserWarning: torch.utils.checkpoint: the use_reentrant parameter should be passed explicitly. In version 2.4 we will raise an exception if use_reentrant is not passed. use_reentrant=False is recommended, but if you need to preserve the current default behavior, you can pass use_reentrant=True. Refer to docs for more details on the differences between the two variants.\n",
      "  warnings.warn(\n"
     ]
    },
    {
     "name": "stderr",
     "output_type": "stream",
     "text": [
      "***** Running Evaluation *****\n"
     ]
    },
    {
     "name": "stderr",
     "output_type": "stream",
     "text": [
      "  Num examples = 22256\n"
     ]
    },
    {
     "name": "stderr",
     "output_type": "stream",
     "text": [
      "  Batch size = 16\n"
     ]
    },
    {
     "name": "stderr",
     "output_type": "stream",
     "text": [
      "***** Running Evaluation *****\n"
     ]
    },
    {
     "name": "stderr",
     "output_type": "stream",
     "text": [
      "  Num examples = 22256\n"
     ]
    },
    {
     "name": "stderr",
     "output_type": "stream",
     "text": [
      "  Batch size = 16\n"
     ]
    },
    {
     "name": "stderr",
     "output_type": "stream",
     "text": [
      "Saving model checkpoint to ensemble_results/MyGPT2chat/checkpoint-700\n"
     ]
    },
    {
     "name": "stderr",
     "output_type": "stream",
     "text": [
      "Configuration saved in ensemble_results/MyGPT2chat/checkpoint-700/config.json\n"
     ]
    },
    {
     "name": "stderr",
     "output_type": "stream",
     "text": [
      "Configuration saved in ensemble_results/MyGPT2chat/checkpoint-700/generation_config.json\n"
     ]
    },
    {
     "name": "stderr",
     "output_type": "stream",
     "text": [
      "tokenizer config file saved in ensemble_results/MyGPT2chat/checkpoint-700/tokenizer_config.json\n"
     ]
    },
    {
     "name": "stderr",
     "output_type": "stream",
     "text": [
      "Special tokens file saved in ensemble_results/MyGPT2chat/checkpoint-700/special_tokens_map.json\n"
     ]
    },
    {
     "name": "stderr",
     "output_type": "stream",
     "text": [
      "added tokens file saved in ensemble_results/MyGPT2chat/checkpoint-700/added_tokens.json\n"
     ]
    },
    {
     "name": "stderr",
     "output_type": "stream",
     "text": [
      "Deleting older checkpoint [ensemble_results/MyGPT2chat/checkpoint-700] due to args.save_total_limit\n"
     ]
    },
    {
     "name": "stderr",
     "output_type": "stream",
     "text": [
      "/work/FAC/FGSE/IDYST/gjouvet/default/klleshi/.conda/envs/NLP/lib/python3.10/site-packages/torch/utils/checkpoint.py:464: UserWarning: torch.utils.checkpoint: the use_reentrant parameter should be passed explicitly. In version 2.4 we will raise an exception if use_reentrant is not passed. use_reentrant=False is recommended, but if you need to preserve the current default behavior, you can pass use_reentrant=True. Refer to docs for more details on the differences between the two variants.\n",
      "  warnings.warn(\n"
     ]
    },
    {
     "name": "stderr",
     "output_type": "stream",
     "text": [
      "***** Running Evaluation *****\n"
     ]
    },
    {
     "name": "stderr",
     "output_type": "stream",
     "text": [
      "  Num examples = 22256\n"
     ]
    },
    {
     "name": "stderr",
     "output_type": "stream",
     "text": [
      "  Batch size = 16\n"
     ]
    },
    {
     "name": "stderr",
     "output_type": "stream",
     "text": [
      "***** Running Evaluation *****\n"
     ]
    },
    {
     "name": "stderr",
     "output_type": "stream",
     "text": [
      "  Num examples = 22256\n"
     ]
    },
    {
     "name": "stderr",
     "output_type": "stream",
     "text": [
      "  Batch size = 16\n"
     ]
    },
    {
     "name": "stderr",
     "output_type": "stream",
     "text": [
      "Saving model checkpoint to ensemble_results/MyGPT2chat/checkpoint-800\n"
     ]
    },
    {
     "name": "stderr",
     "output_type": "stream",
     "text": [
      "Configuration saved in ensemble_results/MyGPT2chat/checkpoint-800/config.json\n"
     ]
    },
    {
     "name": "stderr",
     "output_type": "stream",
     "text": [
      "Configuration saved in ensemble_results/MyGPT2chat/checkpoint-800/generation_config.json\n"
     ]
    },
    {
     "name": "stderr",
     "output_type": "stream",
     "text": [
      "tokenizer config file saved in ensemble_results/MyGPT2chat/checkpoint-800/tokenizer_config.json\n"
     ]
    },
    {
     "name": "stderr",
     "output_type": "stream",
     "text": [
      "Special tokens file saved in ensemble_results/MyGPT2chat/checkpoint-800/special_tokens_map.json\n"
     ]
    },
    {
     "name": "stderr",
     "output_type": "stream",
     "text": [
      "added tokens file saved in ensemble_results/MyGPT2chat/checkpoint-800/added_tokens.json\n"
     ]
    },
    {
     "name": "stderr",
     "output_type": "stream",
     "text": [
      "Deleting older checkpoint [ensemble_results/MyGPT2chat/checkpoint-800] due to args.save_total_limit\n"
     ]
    },
    {
     "name": "stderr",
     "output_type": "stream",
     "text": [
      "/work/FAC/FGSE/IDYST/gjouvet/default/klleshi/.conda/envs/NLP/lib/python3.10/site-packages/torch/utils/checkpoint.py:464: UserWarning: torch.utils.checkpoint: the use_reentrant parameter should be passed explicitly. In version 2.4 we will raise an exception if use_reentrant is not passed. use_reentrant=False is recommended, but if you need to preserve the current default behavior, you can pass use_reentrant=True. Refer to docs for more details on the differences between the two variants.\n",
      "  warnings.warn(\n"
     ]
    },
    {
     "name": "stderr",
     "output_type": "stream",
     "text": [
      "***** Running Evaluation *****\n"
     ]
    },
    {
     "name": "stderr",
     "output_type": "stream",
     "text": [
      "  Num examples = 22256\n"
     ]
    },
    {
     "name": "stderr",
     "output_type": "stream",
     "text": [
      "  Batch size = 16\n"
     ]
    },
    {
     "name": "stderr",
     "output_type": "stream",
     "text": [
      "***** Running Evaluation *****\n"
     ]
    },
    {
     "name": "stderr",
     "output_type": "stream",
     "text": [
      "  Num examples = 22256\n"
     ]
    },
    {
     "name": "stderr",
     "output_type": "stream",
     "text": [
      "  Batch size = 16\n"
     ]
    },
    {
     "name": "stderr",
     "output_type": "stream",
     "text": [
      "Saving model checkpoint to ensemble_results/MyGPT2chat/checkpoint-900\n"
     ]
    },
    {
     "name": "stderr",
     "output_type": "stream",
     "text": [
      "Configuration saved in ensemble_results/MyGPT2chat/checkpoint-900/config.json\n"
     ]
    },
    {
     "name": "stderr",
     "output_type": "stream",
     "text": [
      "Configuration saved in ensemble_results/MyGPT2chat/checkpoint-900/generation_config.json\n"
     ]
    },
    {
     "name": "stderr",
     "output_type": "stream",
     "text": [
      "tokenizer config file saved in ensemble_results/MyGPT2chat/checkpoint-900/tokenizer_config.json\n"
     ]
    },
    {
     "name": "stderr",
     "output_type": "stream",
     "text": [
      "Special tokens file saved in ensemble_results/MyGPT2chat/checkpoint-900/special_tokens_map.json\n"
     ]
    },
    {
     "name": "stderr",
     "output_type": "stream",
     "text": [
      "added tokens file saved in ensemble_results/MyGPT2chat/checkpoint-900/added_tokens.json\n"
     ]
    },
    {
     "name": "stderr",
     "output_type": "stream",
     "text": [
      "/work/FAC/FGSE/IDYST/gjouvet/default/klleshi/.conda/envs/NLP/lib/python3.10/site-packages/torch/utils/checkpoint.py:464: UserWarning: torch.utils.checkpoint: the use_reentrant parameter should be passed explicitly. In version 2.4 we will raise an exception if use_reentrant is not passed. use_reentrant=False is recommended, but if you need to preserve the current default behavior, you can pass use_reentrant=True. Refer to docs for more details on the differences between the two variants.\n",
      "  warnings.warn(\n"
     ]
    },
    {
     "name": "stderr",
     "output_type": "stream",
     "text": [
      "***** Running Evaluation *****\n"
     ]
    },
    {
     "name": "stderr",
     "output_type": "stream",
     "text": [
      "  Num examples = 22256\n"
     ]
    },
    {
     "name": "stderr",
     "output_type": "stream",
     "text": [
      "  Batch size = 16\n"
     ]
    },
    {
     "name": "stderr",
     "output_type": "stream",
     "text": [
      "***** Running Evaluation *****\n"
     ]
    },
    {
     "name": "stderr",
     "output_type": "stream",
     "text": [
      "  Num examples = 22256\n"
     ]
    },
    {
     "name": "stderr",
     "output_type": "stream",
     "text": [
      "  Batch size = 16\n"
     ]
    },
    {
     "name": "stderr",
     "output_type": "stream",
     "text": [
      "Saving model checkpoint to ensemble_results/MyGPT2chat/checkpoint-1000\n"
     ]
    },
    {
     "name": "stderr",
     "output_type": "stream",
     "text": [
      "Configuration saved in ensemble_results/MyGPT2chat/checkpoint-1000/config.json\n"
     ]
    },
    {
     "name": "stderr",
     "output_type": "stream",
     "text": [
      "Configuration saved in ensemble_results/MyGPT2chat/checkpoint-1000/generation_config.json\n"
     ]
    },
    {
     "name": "stderr",
     "output_type": "stream",
     "text": [
      "tokenizer config file saved in ensemble_results/MyGPT2chat/checkpoint-1000/tokenizer_config.json\n"
     ]
    },
    {
     "name": "stderr",
     "output_type": "stream",
     "text": [
      "Special tokens file saved in ensemble_results/MyGPT2chat/checkpoint-1000/special_tokens_map.json\n"
     ]
    },
    {
     "name": "stderr",
     "output_type": "stream",
     "text": [
      "added tokens file saved in ensemble_results/MyGPT2chat/checkpoint-1000/added_tokens.json\n"
     ]
    },
    {
     "name": "stderr",
     "output_type": "stream",
     "text": [
      "\n",
      "\n",
      "Training completed. Do not forget to share your model on huggingface.co/models =)\n",
      "\n",
      "\n"
     ]
    },
    {
     "name": "stderr",
     "output_type": "stream",
     "text": [
      "Configuration saved in ensemble_results/MyGPT2chat/config.json\n"
     ]
    },
    {
     "name": "stderr",
     "output_type": "stream",
     "text": [
      "Configuration saved in ensemble_results/MyGPT2chat/generation_config.json\n"
     ]
    },
    {
     "name": "stderr",
     "output_type": "stream",
     "text": [
      "tokenizer config file saved in ensemble_results/MyGPT2chat/tokenizer_config.json\n"
     ]
    },
    {
     "name": "stderr",
     "output_type": "stream",
     "text": [
      "Special tokens file saved in ensemble_results/MyGPT2chat/special_tokens_map.json\n"
     ]
    },
    {
     "name": "stderr",
     "output_type": "stream",
     "text": [
      "added tokens file saved in ensemble_results/MyGPT2chat/added_tokens.json\n"
     ]
    }
   ],
   "source": [
    "if train_now == \"TRUE\":\n",
    "    trainer.train()\n",
    "    model.save_pretrained(\"ensemble_results/MyGPT2chat\")\n",
    "    tokenizer.save_pretrained(\"ensemble_results/MyGPT2chat\")\n",
    "    log_history = trainer.state.log_history\n",
    "    with open(\"ensemble_results/MyGPT2chat/\"+'log_history.json', 'w') as f: json.dump(log_history, f)\n",
    "else:\n",
    "    with open(\"ensemble_results/MyGPT2chat/\"+'log_history.json', 'r') as f: log_history = json.load(f) "
   ]
  },
  {
   "cell_type": "code",
   "execution_count": 22,
   "id": "6b8a0bd8",
   "metadata": {
    "execution": {
     "iopub.execute_input": "2024-10-22T19:17:42.214102Z",
     "iopub.status.busy": "2024-10-22T19:17:42.213913Z",
     "iopub.status.idle": "2024-10-22T19:17:42.462806Z",
     "shell.execute_reply": "2024-10-22T19:17:42.462370Z"
    },
    "papermill": {
     "duration": 0.261667,
     "end_time": "2024-10-22T19:17:42.464014",
     "exception": false,
     "start_time": "2024-10-22T19:17:42.202347",
     "status": "completed"
    },
    "tags": []
   },
   "outputs": [
    {
     "data": {
      "image/png": "[encoded data removed]",
      "text/plain": [
       "<Figure size 1200x600 with 1 Axes>"
      ]
     },
     "metadata": {},
     "output_type": "display_data"
    }
   ],
   "source": [
    "steps = sorted(set(log['step'] for log in log_history if 'step' in log))\n",
    "losses = [log['loss'] for log in log_history if 'loss' in log]\n",
    "val_losses = [log['eval_loss'] for log in log_history if 'eval_loss' in log]\n",
    "\n",
    "plt.figure(figsize=(12, 6))\n",
    "plt.plot(steps, losses, label='Training Loss')\n",
    "plt.plot(steps, val_losses, label='Validation Loss')\n",
    "plt.xlabel('Step')\n",
    "plt.ylabel('Loss')\n",
    "plt.legend()\n",
    "plt.title('Training and Validation Loss over Steps')\n",
    "plt.savefig(\"ensemble_results/MyGPT2chat/loss_curves.png\", format='png')\n",
    "plt.show()"
   ]
  },
  {
   "cell_type": "code",
   "execution_count": null,
   "id": "b995d618",
   "metadata": {
    "papermill": {
     "duration": 0.010906,
     "end_time": "2024-10-22T19:17:42.486528",
     "exception": false,
     "start_time": "2024-10-22T19:17:42.475622",
     "status": "completed"
    },
    "tags": []
   },
   "outputs": [],
   "source": []
  }
 ],
 "metadata": {
  "kernelspec": {
   "display_name": "NLP",
   "language": "python",
   "name": "python3"
  },
  "language_info": {
   "codemirror_mode": {
    "name": "ipython",
    "version": 3
   },
   "file_extension": ".py",
   "mimetype": "text/x-python",
   "name": "python",
   "nbconvert_exporter": "python",
   "pygments_lexer": "ipython3",
   "version": "3.10.0"
  },
  "papermill": {
   "default_parameters": {},
   "duration": 8646.93604,
   "end_time": "2024-10-22T19:17:45.853871",
   "environment_variables": {},
   "exception": null,
   "input_path": "My_chatbot.ipynb",
   "output_path": "My_chatbot_out.ipynb",
   "parameters": {},
   "start_time": "2024-10-22T16:53:38.917831",
   "version": "2.6.0"
  },
  "widgets": {
   "application/vnd.jupyter.widget-state+json": {
    "state": {
     "10c668de748b4967998185fc75abeb13": {
      "model_module": "@jupyter-widgets/base",
      "model_module_version": "2.0.0",
      "model_name": "LayoutModel",
      "state": {
       "_model_module": "@jupyter-widgets/base",
       "_model_module_version": "2.0.0",
       "_model_name": "LayoutModel",
       "_view_count": null,
       "_view_module": "@jupyter-widgets/base",
       "_view_module_version": "2.0.0",
       "_view_name": "LayoutView",
       "align_content": null,
       "align_items": null,
       "align_self": null,
       "border_bottom": null,
       "border_left": null,
       "border_right": null,
       "border_top": null,
       "bottom": null,
       "display": null,
       "flex": null,
       "flex_flow": null,
       "grid_area": null,
       "grid_auto_columns": null,
       "grid_auto_flow": null,
       "grid_auto_rows": null,
       "grid_column": null,
       "grid_gap": null,
       "grid_row": null,
       "grid_template_areas": null,
       "grid_template_columns": null,
       "grid_template_rows": null,
       "height": null,
       "justify_content": null,
       "justify_items": null,
       "left": null,
       "margin": null,
       "max_height": null,
       "max_width": null,
       "min_height": null,
       "min_width": null,
       "object_fit": null,
       "object_position": null,
       "order": null,
       "overflow": null,
       "padding": null,
       "right": null,
       "top": null,
       "visibility": null,
       "width": null
      }
     },
     "12456551c1e34416981e6b5cf3c9f1de": {
      "model_module": "@jupyter-widgets/controls",
      "model_module_version": "2.0.0",
      "model_name": "ProgressStyleModel",
      "state": {
       "_model_module": "@jupyter-widgets/controls",
       "_model_module_version": "2.0.0",
       "_model_name": "ProgressStyleModel",
       "_view_count": null,
       "_view_module": "@jupyter-widgets/base",
       "_view_module_version": "2.0.0",
       "_view_name": "StyleView",
       "bar_color": null,
       "description_width": ""
      }
     },
     "19f2d24c894e4e49a684251e614c0887": {
      "model_module": "@jupyter-widgets/controls",
      "model_module_version": "2.0.0",
      "model_name": "HTMLStyleModel",
      "state": {
       "_model_module": "@jupyter-widgets/controls",
       "_model_module_version": "2.0.0",
       "_model_name": "HTMLStyleModel",
       "_view_count": null,
       "_view_module": "@jupyter-widgets/base",
       "_view_module_version": "2.0.0",
       "_view_name": "StyleView",
       "background": null,
       "description_width": "",
       "font_size": null,
       "text_color": null
      }
     },
     "20a8de69885243e2985f482605672c53": {
      "model_module": "@jupyter-widgets/controls",
      "model_module_version": "2.0.0",
      "model_name": "HTMLModel",
      "state": {
       "_dom_classes": [],
       "_model_module": "@jupyter-widgets/controls",
       "_model_module_version": "2.0.0",
       "_model_name": "HTMLModel",
       "_view_count": null,
       "_view_module": "@jupyter-widgets/controls",
       "_view_module_version": "2.0.0",
       "_view_name": "HTMLView",
       "description": "",
       "description_allow_html": false,
       "layout": "IPY_MODEL_ae9d88196fa84ea2843dd496142ebb45",
       "placeholder": "​",
       "style": "IPY_MODEL_19f2d24c894e4e49a684251e614c0887",
       "tabbable": null,
       "tooltip": null,
       "value": "Map: 100%"
      }
     },
     "2813dc7a46564d3ab57bc8b9b58c8c1e": {
      "model_module": "@jupyter-widgets/controls",
      "model_module_version": "2.0.0",
      "model_name": "FloatProgressModel",
      "state": {
       "_dom_classes": [],
       "_model_module": "@jupyter-widgets/controls",
       "_model_module_version": "2.0.0",
       "_model_name": "FloatProgressModel",
       "_view_count": null,
       "_view_module": "@jupyter-widgets/controls",
       "_view_module_version": "2.0.0",
       "_view_name": "ProgressView",
       "bar_style": "success",
       "description": "",
       "description_allow_html": false,
       "layout": "IPY_MODEL_841f09ab2e79431c90fc12b0fc26ffad",
       "max": 8437.0,
       "min": 0.0,
       "orientation": "horizontal",
       "style": "IPY_MODEL_df397b8b67904a89955fbd8b9e6e123e",
       "tabbable": null,
       "tooltip": null,
       "value": 8437.0
      }
     },
     "2fa47f03226f425097c5cb243390eab9": {
      "model_module": "@jupyter-widgets/controls",
      "model_module_version": "2.0.0",
      "model_name": "HTMLStyleModel",
      "state": {
       "_model_module": "@jupyter-widgets/controls",
       "_model_module_version": "2.0.0",
       "_model_name": "HTMLStyleModel",
       "_view_count": null,
       "_view_module": "@jupyter-widgets/base",
       "_view_module_version": "2.0.0",
       "_view_name": "StyleView",
       "background": null,
       "description_width": "",
       "font_size": null,
       "text_color": null
      }
     },
     "330203b6f3d74d45854dbfb734be6482": {
      "model_module": "@jupyter-widgets/controls",
      "model_module_version": "2.0.0",
      "model_name": "HTMLStyleModel",
      "state": {
       "_model_module": "@jupyter-widgets/controls",
       "_model_module_version": "2.0.0",
       "_model_name": "HTMLStyleModel",
       "_view_count": null,
       "_view_module": "@jupyter-widgets/base",
       "_view_module_version": "2.0.0",
       "_view_name": "StyleView",
       "background": null,
       "description_width": "",
       "font_size": null,
       "text_color": null
      }
     },
     "4f9d308094e4407286127343cb81df40": {
      "model_module": "@jupyter-widgets/base",
      "model_module_version": "2.0.0",
      "model_name": "LayoutModel",
      "state": {
       "_model_module": "@jupyter-widgets/base",
       "_model_module_version": "2.0.0",
       "_model_name": "LayoutModel",
       "_view_count": null,
       "_view_module": "@jupyter-widgets/base",
       "_view_module_version": "2.0.0",
       "_view_name": "LayoutView",
       "align_content": null,
       "align_items": null,
       "align_self": null,
       "border_bottom": null,
       "border_left": null,
       "border_right": null,
       "border_top": null,
       "bottom": null,
       "display": null,
       "flex": null,
       "flex_flow": null,
       "grid_area": null,
       "grid_auto_columns": null,
       "grid_auto_flow": null,
       "grid_auto_rows": null,
       "grid_column": null,
       "grid_gap": null,
       "grid_row": null,
       "grid_template_areas": null,
       "grid_template_columns": null,
       "grid_template_rows": null,
       "height": null,
       "justify_content": null,
       "justify_items": null,
       "left": null,
       "margin": null,
       "max_height": null,
       "max_width": null,
       "min_height": null,
       "min_width": null,
       "object_fit": null,
       "object_position": null,
       "order": null,
       "overflow": null,
       "padding": null,
       "right": null,
       "top": null,
       "visibility": null,
       "width": null
      }
     },
     "515a791d50cf400ea55bd9b3f44d080c": {
      "model_module": "@jupyter-widgets/base",
      "model_module_version": "2.0.0",
      "model_name": "LayoutModel",
      "state": {
       "_model_module": "@jupyter-widgets/base",
       "_model_module_version": "2.0.0",
       "_model_name": "LayoutModel",
       "_view_count": null,
       "_view_module": "@jupyter-widgets/base",
       "_view_module_version": "2.0.0",
       "_view_name": "LayoutView",
       "align_content": null,
       "align_items": null,
       "align_self": null,
       "border_bottom": null,
       "border_left": null,
       "border_right": null,
       "border_top": null,
       "bottom": null,
       "display": null,
       "flex": null,
       "flex_flow": null,
       "grid_area": null,
       "grid_auto_columns": null,
       "grid_auto_flow": null,
       "grid_auto_rows": null,
       "grid_column": null,
       "grid_gap": null,
       "grid_row": null,
       "grid_template_areas": null,
       "grid_template_columns": null,
       "grid_template_rows": null,
       "height": null,
       "justify_content": null,
       "justify_items": null,
       "left": null,
       "margin": null,
       "max_height": null,
       "max_width": null,
       "min_height": null,
       "min_width": null,
       "object_fit": null,
       "object_position": null,
       "order": null,
       "overflow": null,
       "padding": null,
       "right": null,
       "top": null,
       "visibility": null,
       "width": null
      }
     },
     "596125f8291047eb8ecc7d5e36a614ec": {
      "model_module": "@jupyter-widgets/base",
      "model_module_version": "2.0.0",
      "model_name": "LayoutModel",
      "state": {
       "_model_module": "@jupyter-widgets/base",
       "_model_module_version": "2.0.0",
       "_model_name": "LayoutModel",
       "_view_count": null,
       "_view_module": "@jupyter-widgets/base",
       "_view_module_version": "2.0.0",
       "_view_name": "LayoutView",
       "align_content": null,
       "align_items": null,
       "align_self": null,
       "border_bottom": null,
       "border_left": null,
       "border_right": null,
       "border_top": null,
       "bottom": null,
       "display": null,
       "flex": null,
       "flex_flow": null,
       "grid_area": null,
       "grid_auto_columns": null,
       "grid_auto_flow": null,
       "grid_auto_rows": null,
       "grid_column": null,
       "grid_gap": null,
       "grid_row": null,
       "grid_template_areas": null,
       "grid_template_columns": null,
       "grid_template_rows": null,
       "height": null,
       "justify_content": null,
       "justify_items": null,
       "left": null,
       "margin": null,
       "max_height": null,
       "max_width": null,
       "min_height": null,
       "min_width": null,
       "object_fit": null,
       "object_position": null,
       "order": null,
       "overflow": null,
       "padding": null,
       "right": null,
       "top": null,
       "visibility": null,
       "width": null
      }
     },
     "841f09ab2e79431c90fc12b0fc26ffad": {
      "model_module": "@jupyter-widgets/base",
      "model_module_version": "2.0.0",
      "model_name": "LayoutModel",
      "state": {
       "_model_module": "@jupyter-widgets/base",
       "_model_module_version": "2.0.0",
       "_model_name": "LayoutModel",
       "_view_count": null,
       "_view_module": "@jupyter-widgets/base",
       "_view_module_version": "2.0.0",
       "_view_name": "LayoutView",
       "align_content": null,
       "align_items": null,
       "align_self": null,
       "border_bottom": null,
       "border_left": null,
       "border_right": null,
       "border_top": null,
       "bottom": null,
       "display": null,
       "flex": null,
       "flex_flow": null,
       "grid_area": null,
       "grid_auto_columns": null,
       "grid_auto_flow": null,
       "grid_auto_rows": null,
       "grid_column": null,
       "grid_gap": null,
       "grid_row": null,
       "grid_template_areas": null,
       "grid_template_columns": null,
       "grid_template_rows": null,
       "height": null,
       "justify_content": null,
       "justify_items": null,
       "left": null,
       "margin": null,
       "max_height": null,
       "max_width": null,
       "min_height": null,
       "min_width": null,
       "object_fit": null,
       "object_position": null,
       "order": null,
       "overflow": null,
       "padding": null,
       "right": null,
       "top": null,
       "visibility": null,
       "width": null
      }
     },
     "88475b5f4f834edd9d4f42b8e41e2b18": {
      "model_module": "@jupyter-widgets/controls",
      "model_module_version": "2.0.0",
      "model_name": "HTMLStyleModel",
      "state": {
       "_model_module": "@jupyter-widgets/controls",
       "_model_module_version": "2.0.0",
       "_model_name": "HTMLStyleModel",
       "_view_count": null,
       "_view_module": "@jupyter-widgets/base",
       "_view_module_version": "2.0.0",
       "_view_name": "StyleView",
       "background": null,
       "description_width": "",
       "font_size": null,
       "text_color": null
      }
     },
     "8e36bf24ef474035975d1b29aa59766f": {
      "model_module": "@jupyter-widgets/controls",
      "model_module_version": "2.0.0",
      "model_name": "HTMLModel",
      "state": {
       "_dom_classes": [],
       "_model_module": "@jupyter-widgets/controls",
       "_model_module_version": "2.0.0",
       "_model_name": "HTMLModel",
       "_view_count": null,
       "_view_module": "@jupyter-widgets/controls",
       "_view_module_version": "2.0.0",
       "_view_name": "HTMLView",
       "description": "",
       "description_allow_html": false,
       "layout": "IPY_MODEL_515a791d50cf400ea55bd9b3f44d080c",
       "placeholder": "​",
       "style": "IPY_MODEL_2fa47f03226f425097c5cb243390eab9",
       "tabbable": null,
       "tooltip": null,
       "value": " 1000/1000 [00:17&lt;00:00, 57.00 examples/s]"
      }
     },
     "8fe99a758a334a9abcec705d09c3d54b": {
      "model_module": "@jupyter-widgets/controls",
      "model_module_version": "2.0.0",
      "model_name": "HTMLModel",
      "state": {
       "_dom_classes": [],
       "_model_module": "@jupyter-widgets/controls",
       "_model_module_version": "2.0.0",
       "_model_name": "HTMLModel",
       "_view_count": null,
       "_view_module": "@jupyter-widgets/controls",
       "_view_module_version": "2.0.0",
       "_view_name": "HTMLView",
       "description": "",
       "description_allow_html": false,
       "layout": "IPY_MODEL_d970495cfbf9426da9caebbd1e27b91f",
       "placeholder": "​",
       "style": "IPY_MODEL_88475b5f4f834edd9d4f42b8e41e2b18",
       "tabbable": null,
       "tooltip": null,
       "value": "Map: 100%"
      }
     },
     "a41b4c758d294c319377e22a054cbaa3": {
      "model_module": "@jupyter-widgets/controls",
      "model_module_version": "2.0.0",
      "model_name": "HBoxModel",
      "state": {
       "_dom_classes": [],
       "_model_module": "@jupyter-widgets/controls",
       "_model_module_version": "2.0.0",
       "_model_name": "HBoxModel",
       "_view_count": null,
       "_view_module": "@jupyter-widgets/controls",
       "_view_module_version": "2.0.0",
       "_view_name": "HBoxView",
       "box_style": "",
       "children": [
        "IPY_MODEL_20a8de69885243e2985f482605672c53",
        "IPY_MODEL_fb7ce841d71a4d09ac9133fcbd08548c",
        "IPY_MODEL_8e36bf24ef474035975d1b29aa59766f"
       ],
       "layout": "IPY_MODEL_10c668de748b4967998185fc75abeb13",
       "tabbable": null,
       "tooltip": null
      }
     },
     "ae9d88196fa84ea2843dd496142ebb45": {
      "model_module": "@jupyter-widgets/base",
      "model_module_version": "2.0.0",
      "model_name": "LayoutModel",
      "state": {
       "_model_module": "@jupyter-widgets/base",
       "_model_module_version": "2.0.0",
       "_model_name": "LayoutModel",
       "_view_count": null,
       "_view_module": "@jupyter-widgets/base",
       "_view_module_version": "2.0.0",
       "_view_name": "LayoutView",
       "align_content": null,
       "align_items": null,
       "align_self": null,
       "border_bottom": null,
       "border_left": null,
       "border_right": null,
       "border_top": null,
       "bottom": null,
       "display": null,
       "flex": null,
       "flex_flow": null,
       "grid_area": null,
       "grid_auto_columns": null,
       "grid_auto_flow": null,
       "grid_auto_rows": null,
       "grid_column": null,
       "grid_gap": null,
       "grid_row": null,
       "grid_template_areas": null,
       "grid_template_columns": null,
       "grid_template_rows": null,
       "height": null,
       "justify_content": null,
       "justify_items": null,
       "left": null,
       "margin": null,
       "max_height": null,
       "max_width": null,
       "min_height": null,
       "min_width": null,
       "object_fit": null,
       "object_position": null,
       "order": null,
       "overflow": null,
       "padding": null,
       "right": null,
       "top": null,
       "visibility": null,
       "width": null
      }
     },
     "d970495cfbf9426da9caebbd1e27b91f": {
      "model_module": "@jupyter-widgets/base",
      "model_module_version": "2.0.0",
      "model_name": "LayoutModel",
      "state": {
       "_model_module": "@jupyter-widgets/base",
       "_model_module_version": "2.0.0",
       "_model_name": "LayoutModel",
       "_view_count": null,
       "_view_module": "@jupyter-widgets/base",
       "_view_module_version": "2.0.0",
       "_view_name": "LayoutView",
       "align_content": null,
       "align_items": null,
       "align_self": null,
       "border_bottom": null,
       "border_left": null,
       "border_right": null,
       "border_top": null,
       "bottom": null,
       "display": null,
       "flex": null,
       "flex_flow": null,
       "grid_area": null,
       "grid_auto_columns": null,
       "grid_auto_flow": null,
       "grid_auto_rows": null,
       "grid_column": null,
       "grid_gap": null,
       "grid_row": null,
       "grid_template_areas": null,
       "grid_template_columns": null,
       "grid_template_rows": null,
       "height": null,
       "justify_content": null,
       "justify_items": null,
       "left": null,
       "margin": null,
       "max_height": null,
       "max_width": null,
       "min_height": null,
       "min_width": null,
       "object_fit": null,
       "object_position": null,
       "order": null,
       "overflow": null,
       "padding": null,
       "right": null,
       "top": null,
       "visibility": null,
       "width": null
      }
     },
     "df397b8b67904a89955fbd8b9e6e123e": {
      "model_module": "@jupyter-widgets/controls",
      "model_module_version": "2.0.0",
      "model_name": "ProgressStyleModel",
      "state": {
       "_model_module": "@jupyter-widgets/controls",
       "_model_module_version": "2.0.0",
       "_model_name": "ProgressStyleModel",
       "_view_count": null,
       "_view_module": "@jupyter-widgets/base",
       "_view_module_version": "2.0.0",
       "_view_name": "StyleView",
       "bar_color": null,
       "description_width": ""
      }
     },
     "dfca284537a744c99cc3667ebd36e85c": {
      "model_module": "@jupyter-widgets/controls",
      "model_module_version": "2.0.0",
      "model_name": "HBoxModel",
      "state": {
       "_dom_classes": [],
       "_model_module": "@jupyter-widgets/controls",
       "_model_module_version": "2.0.0",
       "_model_name": "HBoxModel",
       "_view_count": null,
       "_view_module": "@jupyter-widgets/controls",
       "_view_module_version": "2.0.0",
       "_view_name": "HBoxView",
       "box_style": "",
       "children": [
        "IPY_MODEL_8fe99a758a334a9abcec705d09c3d54b",
        "IPY_MODEL_2813dc7a46564d3ab57bc8b9b58c8c1e",
        "IPY_MODEL_e820b98d04354cafa7d8a544fafdc1c7"
       ],
       "layout": "IPY_MODEL_4f9d308094e4407286127343cb81df40",
       "tabbable": null,
       "tooltip": null
      }
     },
     "e16109b01c5a45619ac9f5a472b26f64": {
      "model_module": "@jupyter-widgets/base",
      "model_module_version": "2.0.0",
      "model_name": "LayoutModel",
      "state": {
       "_model_module": "@jupyter-widgets/base",
       "_model_module_version": "2.0.0",
       "_model_name": "LayoutModel",
       "_view_count": null,
       "_view_module": "@jupyter-widgets/base",
       "_view_module_version": "2.0.0",
       "_view_name": "LayoutView",
       "align_content": null,
       "align_items": null,
       "align_self": null,
       "border_bottom": null,
       "border_left": null,
       "border_right": null,
       "border_top": null,
       "bottom": null,
       "display": null,
       "flex": null,
       "flex_flow": null,
       "grid_area": null,
       "grid_auto_columns": null,
       "grid_auto_flow": null,
       "grid_auto_rows": null,
       "grid_column": null,
       "grid_gap": null,
       "grid_row": null,
       "grid_template_areas": null,
       "grid_template_columns": null,
       "grid_template_rows": null,
       "height": null,
       "justify_content": null,
       "justify_items": null,
       "left": null,
       "margin": null,
       "max_height": null,
       "max_width": null,
       "min_height": null,
       "min_width": null,
       "object_fit": null,
       "object_position": null,
       "order": null,
       "overflow": null,
       "padding": null,
       "right": null,
       "top": null,
       "visibility": null,
       "width": null
      }
     },
     "e820b98d04354cafa7d8a544fafdc1c7": {
      "model_module": "@jupyter-widgets/controls",
      "model_module_version": "2.0.0",
      "model_name": "HTMLModel",
      "state": {
       "_dom_classes": [],
       "_model_module": "@jupyter-widgets/controls",
       "_model_module_version": "2.0.0",
       "_model_name": "HTMLModel",
       "_view_count": null,
       "_view_module": "@jupyter-widgets/controls",
       "_view_module_version": "2.0.0",
       "_view_name": "HTMLView",
       "description": "",
       "description_allow_html": false,
       "layout": "IPY_MODEL_e16109b01c5a45619ac9f5a472b26f64",
       "placeholder": "​",
       "style": "IPY_MODEL_330203b6f3d74d45854dbfb734be6482",
       "tabbable": null,
       "tooltip": null,
       "value": " 8437/8437 [02:06&lt;00:00, 66.85 examples/s]"
      }
     },
     "fb7ce841d71a4d09ac9133fcbd08548c": {
      "model_module": "@jupyter-widgets/controls",
      "model_module_version": "2.0.0",
      "model_name": "FloatProgressModel",
      "state": {
       "_dom_classes": [],
       "_model_module": "@jupyter-widgets/controls",
       "_model_module_version": "2.0.0",
       "_model_name": "FloatProgressModel",
       "_view_count": null,
       "_view_module": "@jupyter-widgets/controls",
       "_view_module_version": "2.0.0",
       "_view_name": "ProgressView",
       "bar_style": "success",
       "description": "",
       "description_allow_html": false,
       "layout": "IPY_MODEL_596125f8291047eb8ecc7d5e36a614ec",
       "max": 1000.0,
       "min": 0.0,
       "orientation": "horizontal",
       "style": "IPY_MODEL_12456551c1e34416981e6b5cf3c9f1de",
       "tabbable": null,
       "tooltip": null,
       "value": 1000.0
      }
     }
    },
    "version_major": 2,
    "version_minor": 0
   }
  }
 },
 "nbformat": 4,
 "nbformat_minor": 5
}